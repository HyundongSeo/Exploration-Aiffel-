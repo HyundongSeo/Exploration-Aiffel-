{
 "cells": [
  {
   "cell_type": "markdown",
   "id": "e2addfb7",
   "metadata": {},
   "source": [
    "## Step 1. 데이터 수집하기"
   ]
  },
  {
   "cell_type": "code",
   "execution_count": 18,
   "id": "41750d86",
   "metadata": {},
   "outputs": [
    {
     "name": "stdout",
     "output_type": "stream",
     "text": [
      "=3\n"
     ]
    },
    {
     "name": "stderr",
     "output_type": "stream",
     "text": [
      "[nltk_data] Downloading package stopwords to /aiffel/nltk_data...\n",
      "[nltk_data]   Package stopwords is already up-to-date!\n"
     ]
    }
   ],
   "source": [
    "import nltk\n",
    "nltk.download('stopwords')\n",
    "\n",
    "import numpy as np\n",
    "import pandas as pd\n",
    "import os\n",
    "import re\n",
    "import matplotlib.pyplot as plt\n",
    "from nltk.corpus import stopwords\n",
    "from bs4 import BeautifulSoup \n",
    "from tensorflow.keras.preprocessing.text import Tokenizer \n",
    "from tensorflow.keras.preprocessing.sequence import pad_sequences\n",
    "import urllib.request\n",
    "from tqdm.notebook import tqdm\n",
    "import warnings\n",
    "warnings.filterwarnings(\"ignore\", category=UserWarning, module='bs4')\n",
    "\n",
    "print('=3')"
   ]
  },
  {
   "cell_type": "code",
   "execution_count": 10,
   "id": "df744319",
   "metadata": {},
   "outputs": [],
   "source": [
    "import urllib.request\n",
    "urllib.request.urlretrieve(\"https://raw.githubusercontent.com/sunnysai12345/News_Summary/master/news_summary_more.csv\", filename=\"news_summary_more.csv\")\n",
    "data = pd.read_csv('news_summary_more.csv', encoding='iso-8859-1')"
   ]
  },
  {
   "cell_type": "code",
   "execution_count": 11,
   "id": "5ba13cdc",
   "metadata": {},
   "outputs": [
    {
     "data": {
      "text/html": [
       "<div>\n",
       "<style scoped>\n",
       "    .dataframe tbody tr th:only-of-type {\n",
       "        vertical-align: middle;\n",
       "    }\n",
       "\n",
       "    .dataframe tbody tr th {\n",
       "        vertical-align: top;\n",
       "    }\n",
       "\n",
       "    .dataframe thead th {\n",
       "        text-align: right;\n",
       "    }\n",
       "</style>\n",
       "<table border=\"1\" class=\"dataframe\">\n",
       "  <thead>\n",
       "    <tr style=\"text-align: right;\">\n",
       "      <th></th>\n",
       "      <th>headlines</th>\n",
       "      <th>text</th>\n",
       "    </tr>\n",
       "  </thead>\n",
       "  <tbody>\n",
       "    <tr>\n",
       "      <th>42114</th>\n",
       "      <td>Akram trains 6-yr-old whose 1 stump bowling vi...</td>\n",
       "      <td>Pakistani legend Wasim Akram took to Twitter t...</td>\n",
       "    </tr>\n",
       "    <tr>\n",
       "      <th>33557</th>\n",
       "      <td>Priest arrested for alleged rape of 7-yr-old i...</td>\n",
       "      <td>A temple priest has been arrested in Rajasthan...</td>\n",
       "    </tr>\n",
       "    <tr>\n",
       "      <th>71460</th>\n",
       "      <td>Nirmala Sitharaman takes charge as Defence Min...</td>\n",
       "      <td>Nirmala Sitharaman on Thursday took charge of ...</td>\n",
       "    </tr>\n",
       "    <tr>\n",
       "      <th>76636</th>\n",
       "      <td>J&amp;K girls make rakhis at home to boycott China...</td>\n",
       "      <td>Two young girls from Jammu and Kashmir made ra...</td>\n",
       "    </tr>\n",
       "    <tr>\n",
       "      <th>47278</th>\n",
       "      <td>Snap CEO Evan Spiegel sells stock worth $50 mi...</td>\n",
       "      <td>Snap's CEO Evan Spiegel has sold his stock wor...</td>\n",
       "    </tr>\n",
       "    <tr>\n",
       "      <th>36803</th>\n",
       "      <td>FB withdraws ZuckerbergÃ¢ÂÂs messages from r...</td>\n",
       "      <td>Facebook messages sent by CEO Mark Zuckerberg ...</td>\n",
       "    </tr>\n",
       "    <tr>\n",
       "      <th>84284</th>\n",
       "      <td>Technology is certainly replacing jobs: Facebo...</td>\n",
       "      <td>Social media platform Facebook's Chief Operati...</td>\n",
       "    </tr>\n",
       "    <tr>\n",
       "      <th>83754</th>\n",
       "      <td>Online rummy to be banned in Telangana</td>\n",
       "      <td>Telangana Cabinet has approved an ordinance wh...</td>\n",
       "    </tr>\n",
       "    <tr>\n",
       "      <th>53918</th>\n",
       "      <td>Apple launched clothing line 'The Apple Collec...</td>\n",
       "      <td>Technology giant Apple launched its own clothi...</td>\n",
       "    </tr>\n",
       "    <tr>\n",
       "      <th>89515</th>\n",
       "      <td>Ed Sheeran to perform in India in November</td>\n",
       "      <td>Singer Ed Sheeran will be coming to India for ...</td>\n",
       "    </tr>\n",
       "  </tbody>\n",
       "</table>\n",
       "</div>"
      ],
      "text/plain": [
       "                                               headlines  \\\n",
       "42114  Akram trains 6-yr-old whose 1 stump bowling vi...   \n",
       "33557  Priest arrested for alleged rape of 7-yr-old i...   \n",
       "71460  Nirmala Sitharaman takes charge as Defence Min...   \n",
       "76636  J&K girls make rakhis at home to boycott China...   \n",
       "47278  Snap CEO Evan Spiegel sells stock worth $50 mi...   \n",
       "36803  FB withdraws ZuckerbergÃ¢ÂÂs messages from r...   \n",
       "84284  Technology is certainly replacing jobs: Facebo...   \n",
       "83754            Online rummy to be banned in Telangana    \n",
       "53918  Apple launched clothing line 'The Apple Collec...   \n",
       "89515         Ed Sheeran to perform in India in November   \n",
       "\n",
       "                                                    text  \n",
       "42114  Pakistani legend Wasim Akram took to Twitter t...  \n",
       "33557  A temple priest has been arrested in Rajasthan...  \n",
       "71460  Nirmala Sitharaman on Thursday took charge of ...  \n",
       "76636  Two young girls from Jammu and Kashmir made ra...  \n",
       "47278  Snap's CEO Evan Spiegel has sold his stock wor...  \n",
       "36803  Facebook messages sent by CEO Mark Zuckerberg ...  \n",
       "84284  Social media platform Facebook's Chief Operati...  \n",
       "83754  Telangana Cabinet has approved an ordinance wh...  \n",
       "53918  Technology giant Apple launched its own clothi...  \n",
       "89515  Singer Ed Sheeran will be coming to India for ...  "
      ]
     },
     "execution_count": 11,
     "metadata": {},
     "output_type": "execute_result"
    }
   ],
   "source": [
    "data.sample(10)"
   ]
  },
  {
   "cell_type": "markdown",
   "id": "294d0615",
   "metadata": {},
   "source": [
    "## Step 2. 데이터 전처리하기 (추상적 요약)"
   ]
  },
  {
   "cell_type": "markdown",
   "id": "e23061d8",
   "metadata": {},
   "source": [
    "### 1. 중복 샘플과 NULL 값이 존재하는 샘플 제거"
   ]
  },
  {
   "cell_type": "code",
   "execution_count": 6,
   "id": "2a40c77c",
   "metadata": {},
   "outputs": [
    {
     "name": "stdout",
     "output_type": "stream",
     "text": [
      "Text 열에서 중복을 배제한 유일한 샘플의 수 : 98360\n",
      "Summary 열에서 중복을 배제한 유일한 샘플의 수 : 98280\n"
     ]
    }
   ],
   "source": [
    "print('Text 열에서 중복을 배제한 유일한 샘플의 수 :', data['text'].nunique())\n",
    "print('Summary 열에서 중복을 배제한 유일한 샘플의 수 :', data['headlines'].nunique())"
   ]
  },
  {
   "cell_type": "code",
   "execution_count": 7,
   "id": "14c6d72c",
   "metadata": {},
   "outputs": [
    {
     "name": "stdout",
     "output_type": "stream",
     "text": [
      "전체 샘플수 : 98360\n"
     ]
    }
   ],
   "source": [
    "# inplace=True 를 설정하면 DataFrame 타입 값을 return 하지 않고 data 내부를 직접적으로 바꿉니다\n",
    "data.drop_duplicates(subset = ['text'], inplace=True)\n",
    "print('전체 샘플수 :', (len(data)))"
   ]
  },
  {
   "cell_type": "code",
   "execution_count": 12,
   "id": "d2bbfd97",
   "metadata": {},
   "outputs": [
    {
     "name": "stdout",
     "output_type": "stream",
     "text": [
      "headlines    0\n",
      "text         0\n",
      "dtype: int64\n"
     ]
    }
   ],
   "source": [
    "print(data.isnull().sum())\n",
    "\n",
    "# 써머리에 널값 존재 x"
   ]
  },
  {
   "cell_type": "markdown",
   "id": "6af1bf07",
   "metadata": {},
   "source": [
    "### 2. 텍스트 정규화와 불용어 제거"
   ]
  },
  {
   "cell_type": "code",
   "execution_count": 13,
   "id": "8e312fff",
   "metadata": {},
   "outputs": [
    {
     "name": "stdout",
     "output_type": "stream",
     "text": [
      "정규화 사전의 수:  120\n"
     ]
    }
   ],
   "source": [
    "contractions = {\"ain't\": \"is not\", \"aren't\": \"are not\",\"can't\": \"cannot\", \"'cause\": \"because\", \"could've\": \"could have\", \"couldn't\": \"could not\",\n",
    "                           \"didn't\": \"did not\",  \"doesn't\": \"does not\", \"don't\": \"do not\", \"hadn't\": \"had not\", \"hasn't\": \"has not\", \"haven't\": \"have not\",\n",
    "                           \"he'd\": \"he would\",\"he'll\": \"he will\", \"he's\": \"he is\", \"how'd\": \"how did\", \"how'd'y\": \"how do you\", \"how'll\": \"how will\", \"how's\": \"how is\",\n",
    "                           \"I'd\": \"I would\", \"I'd've\": \"I would have\", \"I'll\": \"I will\", \"I'll've\": \"I will have\",\"I'm\": \"I am\", \"I've\": \"I have\", \"i'd\": \"i would\",\n",
    "                           \"i'd've\": \"i would have\", \"i'll\": \"i will\",  \"i'll've\": \"i will have\",\"i'm\": \"i am\", \"i've\": \"i have\", \"isn't\": \"is not\", \"it'd\": \"it would\",\n",
    "                           \"it'd've\": \"it would have\", \"it'll\": \"it will\", \"it'll've\": \"it will have\",\"it's\": \"it is\", \"let's\": \"let us\", \"ma'am\": \"madam\",\n",
    "                           \"mayn't\": \"may not\", \"might've\": \"might have\",\"mightn't\": \"might not\",\"mightn't've\": \"might not have\", \"must've\": \"must have\",\n",
    "                           \"mustn't\": \"must not\", \"mustn't've\": \"must not have\", \"needn't\": \"need not\", \"needn't've\": \"need not have\",\"o'clock\": \"of the clock\",\n",
    "                           \"oughtn't\": \"ought not\", \"oughtn't've\": \"ought not have\", \"shan't\": \"shall not\", \"sha'n't\": \"shall not\", \"shan't've\": \"shall not have\",\n",
    "                           \"she'd\": \"she would\", \"she'd've\": \"she would have\", \"she'll\": \"she will\", \"she'll've\": \"she will have\", \"she's\": \"she is\",\n",
    "                           \"should've\": \"should have\", \"shouldn't\": \"should not\", \"shouldn't've\": \"should not have\", \"so've\": \"so have\",\"so's\": \"so as\",\n",
    "                           \"this's\": \"this is\",\"that'd\": \"that would\", \"that'd've\": \"that would have\", \"that's\": \"that is\", \"there'd\": \"there would\",\n",
    "                           \"there'd've\": \"there would have\", \"there's\": \"there is\", \"here's\": \"here is\",\"they'd\": \"they would\", \"they'd've\": \"they would have\",\n",
    "                           \"they'll\": \"they will\", \"they'll've\": \"they will have\", \"they're\": \"they are\", \"they've\": \"they have\", \"to've\": \"to have\",\n",
    "                           \"wasn't\": \"was not\", \"we'd\": \"we would\", \"we'd've\": \"we would have\", \"we'll\": \"we will\", \"we'll've\": \"we will have\", \"we're\": \"we are\",\n",
    "                           \"we've\": \"we have\", \"weren't\": \"were not\", \"what'll\": \"what will\", \"what'll've\": \"what will have\", \"what're\": \"what are\",\n",
    "                           \"what's\": \"what is\", \"what've\": \"what have\", \"when's\": \"when is\", \"when've\": \"when have\", \"where'd\": \"where did\", \"where's\": \"where is\",\n",
    "                           \"where've\": \"where have\", \"who'll\": \"who will\", \"who'll've\": \"who will have\", \"who's\": \"who is\", \"who've\": \"who have\",\n",
    "                           \"why's\": \"why is\", \"why've\": \"why have\", \"will've\": \"will have\", \"won't\": \"will not\", \"won't've\": \"will not have\",\n",
    "                           \"would've\": \"would have\", \"wouldn't\": \"would not\", \"wouldn't've\": \"would not have\", \"y'all\": \"you all\",\n",
    "                           \"y'all'd\": \"you all would\",\"y'all'd've\": \"you all would have\",\"y'all're\": \"you all are\",\"y'all've\": \"you all have\",\n",
    "                           \"you'd\": \"you would\", \"you'd've\": \"you would have\", \"you'll\": \"you will\", \"you'll've\": \"you will have\",\n",
    "                           \"you're\": \"you are\", \"you've\": \"you have\"}\n",
    "\n",
    "print(\"정규화 사전의 수: \", len(contractions))"
   ]
  },
  {
   "cell_type": "code",
   "execution_count": 14,
   "id": "230bd332",
   "metadata": {},
   "outputs": [
    {
     "name": "stdout",
     "output_type": "stream",
     "text": [
      "불용어 개수 : 179\n",
      "['i', 'me', 'my', 'myself', 'we', 'our', 'ours', 'ourselves', 'you', \"you're\", \"you've\", \"you'll\", \"you'd\", 'your', 'yours', 'yourself', 'yourselves', 'he', 'him', 'his', 'himself', 'she', \"she's\", 'her', 'hers', 'herself', 'it', \"it's\", 'its', 'itself', 'they', 'them', 'their', 'theirs', 'themselves', 'what', 'which', 'who', 'whom', 'this', 'that', \"that'll\", 'these', 'those', 'am', 'is', 'are', 'was', 'were', 'be', 'been', 'being', 'have', 'has', 'had', 'having', 'do', 'does', 'did', 'doing', 'a', 'an', 'the', 'and', 'but', 'if', 'or', 'because', 'as', 'until', 'while', 'of', 'at', 'by', 'for', 'with', 'about', 'against', 'between', 'into', 'through', 'during', 'before', 'after', 'above', 'below', 'to', 'from', 'up', 'down', 'in', 'out', 'on', 'off', 'over', 'under', 'again', 'further', 'then', 'once', 'here', 'there', 'when', 'where', 'why', 'how', 'all', 'any', 'both', 'each', 'few', 'more', 'most', 'other', 'some', 'such', 'no', 'nor', 'not', 'only', 'own', 'same', 'so', 'than', 'too', 'very', 's', 't', 'can', 'will', 'just', 'don', \"don't\", 'should', \"should've\", 'now', 'd', 'll', 'm', 'o', 're', 've', 'y', 'ain', 'aren', \"aren't\", 'couldn', \"couldn't\", 'didn', \"didn't\", 'doesn', \"doesn't\", 'hadn', \"hadn't\", 'hasn', \"hasn't\", 'haven', \"haven't\", 'isn', \"isn't\", 'ma', 'mightn', \"mightn't\", 'mustn', \"mustn't\", 'needn', \"needn't\", 'shan', \"shan't\", 'shouldn', \"shouldn't\", 'wasn', \"wasn't\", 'weren', \"weren't\", 'won', \"won't\", 'wouldn', \"wouldn't\"]\n"
     ]
    }
   ],
   "source": [
    "print('불용어 개수 :', len(stopwords.words('english') ))\n",
    "print(stopwords.words('english'))"
   ]
  },
  {
   "cell_type": "code",
   "execution_count": 16,
   "id": "8d494b8f",
   "metadata": {},
   "outputs": [],
   "source": [
    "#데이터 전처리 함수\n",
    "def preprocess_sentence(sentence, remove_stopwords=True):\n",
    "    sentence = sentence.lower() # 텍스트 소문자화\n",
    "    sentence = BeautifulSoup(sentence, \"lxml\").text # <br />, <a href = ...> 등의 html 태그 제거\n",
    "    sentence = re.sub(r'\\([^)]*\\)', '', sentence) # 괄호로 닫힌 문자열 (...) 제거 Ex) my husband (and myself!) for => my husband for\n",
    "    sentence = re.sub('\"','', sentence) # 쌍따옴표 \" 제거\n",
    "    sentence = ' '.join([contractions[t] if t in contractions else t for t in sentence.split(\" \")]) # 약어 정규화\n",
    "    sentence = re.sub(r\"'s\\b\",\"\",sentence) # 소유격 제거. Ex) roland's -> roland\n",
    "    sentence = re.sub(\"[^a-zA-Z]\", \" \", sentence) # 영어 외 문자(숫자, 특수문자 등) 공백으로 변환\n",
    "    sentence = re.sub('[m]{2,}', 'mm', sentence) # m이 3개 이상이면 2개로 변경. Ex) ummmmmmm yeah -> umm yeah\n",
    "    \n",
    "    # 불용어 제거 (Text)\n",
    "    if remove_stopwords :\n",
    "        if len(sentence.split()) > 44 :\n",
    "            tokens = ' '.join(word for word in sentence.split() if not word in stopwords.words('english')if len(word) > 1)\n",
    "        else :\n",
    "            tokens = ' '.join(word for word in sentence.split() if len(word) > 1)\n",
    "    # headlines의 경우 불용어제거를 수행하지 않음\n",
    "    else :\n",
    "        tokens = ' '.join(word for word in sentence.split() if len(word) > 1)\n",
    "\n",
    "    return tokens"
   ]
  },
  {
   "cell_type": "code",
   "execution_count": 19,
   "id": "02678068",
   "metadata": {},
   "outputs": [
    {
     "data": {
      "application/vnd.jupyter.widget-view+json": {
       "model_id": "367285301d7f4f4c992aa75ca925e6e3",
       "version_major": 2,
       "version_minor": 0
      },
      "text/plain": [
       "  0%|          | 0/98401 [00:00<?, ?it/s]"
      ]
     },
     "metadata": {},
     "output_type": "display_data"
    },
    {
     "data": {
      "text/plain": [
       "['saurav kant alumnus upgrad iiit pg program machine learning artificial intelligence sr systems engineer infosys almost years work experience program upgrad degree career support helped transition data scientist tech mahindra salary hike upgrad online power learning powered lakh careers',\n",
       " 'kunal shah credit card bill payment platform cred gave users chance win free food swiggy one year pranav kaushik delhi techie bagged reward spending cred coins users get one cred coin per rupee bill paid used avail rewards brands like ixigo bookmyshow ubereats cult fit',\n",
       " 'new zealand defeated india wickets fourth odi hamilton thursday win first match five match odi series india lost international match rohit sharma captaincy consecutive victories dating back march match witnessed india getting seventh lowest total odi cricket history',\n",
       " 'aegon life iterm insurance plan customers enjoy tax benefits premiums paid save taxes plan provides life cover age years also customers options insure critical illnesses disability accidental death benefit rider life cover age years',\n",
       " 'speaking sexual harassment allegations rajkumar hirani sonam kapoor said known hirani many years true metoo movement get derailed metoo movement always believe woman case need reserve judgment added hirani accused assistant worked sanju']"
      ]
     },
     "execution_count": 19,
     "metadata": {},
     "output_type": "execute_result"
    }
   ],
   "source": [
    "clean_text = []\n",
    "\n",
    "# 전체 Text 데이터에 대한 전처리 : 10분 이상 시간이 걸릴 수 있습니다. \n",
    "for s in tqdm(data['text']):\n",
    "    clean_text.append(preprocess_sentence(s))\n",
    "\n",
    "# 전처리 후 출력\n",
    "clean_text[:5]"
   ]
  },
  {
   "cell_type": "code",
   "execution_count": 20,
   "id": "4cd3c518",
   "metadata": {},
   "outputs": [
    {
     "data": {
      "application/vnd.jupyter.widget-view+json": {
       "model_id": "cb3d5a99460846e3895fb1ee90837f74",
       "version_major": 2,
       "version_minor": 0
      },
      "text/plain": [
       "  0%|          | 0/98401 [00:00<?, ?it/s]"
      ]
     },
     "metadata": {},
     "output_type": "display_data"
    },
    {
     "data": {
      "text/plain": [
       "['upgrad learner switches to career in ml al with salary hike',\n",
       " 'delhi techie wins free food from swiggy for one year on cred',\n",
       " 'new zealand end rohit sharma led india match winning streak',\n",
       " 'aegon life iterm insurance plan helps customers save tax',\n",
       " 'have known hirani for yrs what if metoo claims are not true sonam']"
      ]
     },
     "execution_count": 20,
     "metadata": {},
     "output_type": "execute_result"
    }
   ],
   "source": [
    "clean_headlines = []\n",
    "\n",
    "# 전체 Summary 데이터에 대한 전처리 : 5분 이상 시간이 걸릴 수 있습니다. \n",
    "for s in tqdm(data['headlines']):\n",
    "    clean_headlines.append(preprocess_sentence(s, False))\n",
    "\n",
    "clean_headlines[:5]"
   ]
  },
  {
   "cell_type": "code",
   "execution_count": 21,
   "id": "faf663c7",
   "metadata": {},
   "outputs": [
    {
     "data": {
      "text/plain": [
       "headlines    0\n",
       "text         0\n",
       "dtype: int64"
      ]
     },
     "execution_count": 21,
     "metadata": {},
     "output_type": "execute_result"
    }
   ],
   "source": [
    "data.isnull().sum()"
   ]
  },
  {
   "cell_type": "markdown",
   "id": "9792dea9",
   "metadata": {},
   "source": [
    "### 3. 데이터 분리하기"
   ]
  },
  {
   "cell_type": "code",
   "execution_count": 22,
   "id": "6fa0c301",
   "metadata": {},
   "outputs": [
    {
     "name": "stdout",
     "output_type": "stream",
     "text": [
      "텍스트의 최소 길이 : 1\n",
      "텍스트의 최대 길이 : 91\n",
      "텍스트의 평균 길이 : 58.2385341612382\n",
      "요약의 최소 길이 : 1\n",
      "요약의 최대 길이 : 18\n",
      "요약의 평균 길이 : 9.553906972490116\n"
     ]
    },
    {
     "data": {
      "image/png": "[encoded data removed]",
      "text/plain": [
       "<Figure size 432x288 with 2 Axes>"
      ]
     },
     "metadata": {
      "needs_background": "light"
     },
     "output_type": "display_data"
    },
    {
     "data": {
      "image/png": "[encoded data removed]",
      "text/plain": [
       "<Figure size 432x288 with 1 Axes>"
      ]
     },
     "metadata": {
      "needs_background": "light"
     },
     "output_type": "display_data"
    },
    {
     "data": {
      "image/png": "[encoded data removed]",
      "text/plain": [
       "<Figure size 432x288 with 1 Axes>"
      ]
     },
     "metadata": {
      "needs_background": "light"
     },
     "output_type": "display_data"
    }
   ],
   "source": [
    "# 샘플의 최대 길이 정하기\n",
    "\n",
    "# 길이 분포 출력\n",
    "import matplotlib.pyplot as plt\n",
    "\n",
    "text_len = [len(s.split()) for s in data['text']]\n",
    "headline_len = [len(s.split()) for s in data['headlines']]\n",
    "\n",
    "print('텍스트의 최소 길이 : {}'.format(np.min(text_len)))\n",
    "print('텍스트의 최대 길이 : {}'.format(np.max(text_len)))\n",
    "print('텍스트의 평균 길이 : {}'.format(np.mean(text_len)))\n",
    "print('요약의 최소 길이 : {}'.format(np.min(headline_len)))\n",
    "print('요약의 최대 길이 : {}'.format(np.max(headline_len)))\n",
    "print('요약의 평균 길이 : {}'.format(np.mean(headline_len)))\n",
    "\n",
    "plt.subplot(1,2,1)\n",
    "plt.boxplot(headline_len)\n",
    "plt.title('Headlines')\n",
    "plt.subplot(1,2,2)\n",
    "plt.boxplot(text_len)\n",
    "plt.title('Text')\n",
    "plt.tight_layout()\n",
    "plt.show()\n",
    "\n",
    "plt.title('Summary')\n",
    "plt.hist(headline_len, bins = 40)\n",
    "plt.xlabel('length of samples')\n",
    "plt.ylabel('number of samples')\n",
    "plt.show()\n",
    "\n",
    "plt.title('Text')\n",
    "plt.hist(text_len, bins = 40)\n",
    "plt.xlabel('length of samples')\n",
    "plt.ylabel('number of samples')\n",
    "plt.show()\n"
   ]
  },
  {
   "cell_type": "code",
   "execution_count": 23,
   "id": "3f74fe57",
   "metadata": {},
   "outputs": [],
   "source": [
    "text_max_len = 60\n",
    "summary_max_len = 12"
   ]
  },
  {
   "cell_type": "code",
   "execution_count": 24,
   "id": "0442aa94",
   "metadata": {},
   "outputs": [],
   "source": [
    "def below_threshold_len(max_len, nested_list):\n",
    "  cnt = 0\n",
    "  for s in nested_list:\n",
    "    if(len(s.split()) <= max_len):\n",
    "        cnt = cnt + 1\n",
    "  print('전체 샘플 중 길이가 %s 이하인 샘플의 비율: %s'%(max_len, (cnt / len(nested_list))))"
   ]
  },
  {
   "cell_type": "code",
   "execution_count": 25,
   "id": "c27a2c73",
   "metadata": {},
   "outputs": [
    {
     "name": "stdout",
     "output_type": "stream",
     "text": [
      "전체 샘플 중 길이가 60 이하인 샘플의 비율: 0.997449212914503\n",
      "전체 샘플 중 길이가 12 이하인 샘플의 비율: 0.9767888537718112\n"
     ]
    }
   ],
   "source": [
    "below_threshold_len(text_max_len, data['text'])\n",
    "below_threshold_len(summary_max_len,  data['headlines'])"
   ]
  },
  {
   "cell_type": "code",
   "execution_count": 26,
   "id": "833069e3",
   "metadata": {},
   "outputs": [
    {
     "name": "stdout",
     "output_type": "stream",
     "text": [
      "전체 샘플수 : 95875\n"
     ]
    }
   ],
   "source": [
    "data = data[data['text'].apply(lambda x: len(x.split()) <= text_max_len)]\n",
    "data = data[data['headlines'].apply(lambda x: len(x.split()) <= summary_max_len)]\n",
    "print('전체 샘플수 :',(len(data)))"
   ]
  },
  {
   "cell_type": "markdown",
   "id": "98b9a375",
   "metadata": {},
   "source": [
    "### 4. 시작 토큰과 종료 토큰 추가하기"
   ]
  },
  {
   "cell_type": "code",
   "execution_count": 27,
   "id": "d60530ca",
   "metadata": {},
   "outputs": [
    {
     "data": {
      "text/html": [
       "<div>\n",
       "<style scoped>\n",
       "    .dataframe tbody tr th:only-of-type {\n",
       "        vertical-align: middle;\n",
       "    }\n",
       "\n",
       "    .dataframe tbody tr th {\n",
       "        vertical-align: top;\n",
       "    }\n",
       "\n",
       "    .dataframe thead th {\n",
       "        text-align: right;\n",
       "    }\n",
       "</style>\n",
       "<table border=\"1\" class=\"dataframe\">\n",
       "  <thead>\n",
       "    <tr style=\"text-align: right;\">\n",
       "      <th></th>\n",
       "      <th>headlines</th>\n",
       "      <th>text</th>\n",
       "      <th>decoder_input</th>\n",
       "      <th>decoder_target</th>\n",
       "    </tr>\n",
       "  </thead>\n",
       "  <tbody>\n",
       "    <tr>\n",
       "      <th>1</th>\n",
       "      <td>Delhi techie wins free food from Swiggy for on...</td>\n",
       "      <td>Kunal Shah's credit card bill payment platform...</td>\n",
       "      <td>sostoken Delhi techie wins free food from Swig...</td>\n",
       "      <td>Delhi techie wins free food from Swiggy for on...</td>\n",
       "    </tr>\n",
       "    <tr>\n",
       "      <th>2</th>\n",
       "      <td>New Zealand end Rohit Sharma-led India's 12-ma...</td>\n",
       "      <td>New Zealand defeated India by 8 wickets in the...</td>\n",
       "      <td>sostoken New Zealand end Rohit Sharma-led Indi...</td>\n",
       "      <td>New Zealand end Rohit Sharma-led India's 12-ma...</td>\n",
       "    </tr>\n",
       "    <tr>\n",
       "      <th>3</th>\n",
       "      <td>Aegon life iTerm insurance plan helps customer...</td>\n",
       "      <td>With Aegon Life iTerm Insurance plan, customer...</td>\n",
       "      <td>sostoken Aegon life iTerm insurance plan helps...</td>\n",
       "      <td>Aegon life iTerm insurance plan helps customer...</td>\n",
       "    </tr>\n",
       "    <tr>\n",
       "      <th>5</th>\n",
       "      <td>Rahat Fateh Ali Khan denies getting notice for...</td>\n",
       "      <td>Pakistani singer Rahat Fateh Ali Khan has deni...</td>\n",
       "      <td>sostoken Rahat Fateh Ali Khan denies getting n...</td>\n",
       "      <td>Rahat Fateh Ali Khan denies getting notice for...</td>\n",
       "    </tr>\n",
       "    <tr>\n",
       "      <th>7</th>\n",
       "      <td>Govt directs Alok Verma to join work 1 day bef...</td>\n",
       "      <td>Weeks after ex-CBI Director Alok Verma told th...</td>\n",
       "      <td>sostoken Govt directs Alok Verma to join work ...</td>\n",
       "      <td>Govt directs Alok Verma to join work 1 day bef...</td>\n",
       "    </tr>\n",
       "  </tbody>\n",
       "</table>\n",
       "</div>"
      ],
      "text/plain": [
       "                                           headlines  \\\n",
       "1  Delhi techie wins free food from Swiggy for on...   \n",
       "2  New Zealand end Rohit Sharma-led India's 12-ma...   \n",
       "3  Aegon life iTerm insurance plan helps customer...   \n",
       "5  Rahat Fateh Ali Khan denies getting notice for...   \n",
       "7  Govt directs Alok Verma to join work 1 day bef...   \n",
       "\n",
       "                                                text  \\\n",
       "1  Kunal Shah's credit card bill payment platform...   \n",
       "2  New Zealand defeated India by 8 wickets in the...   \n",
       "3  With Aegon Life iTerm Insurance plan, customer...   \n",
       "5  Pakistani singer Rahat Fateh Ali Khan has deni...   \n",
       "7  Weeks after ex-CBI Director Alok Verma told th...   \n",
       "\n",
       "                                       decoder_input  \\\n",
       "1  sostoken Delhi techie wins free food from Swig...   \n",
       "2  sostoken New Zealand end Rohit Sharma-led Indi...   \n",
       "3  sostoken Aegon life iTerm insurance plan helps...   \n",
       "5  sostoken Rahat Fateh Ali Khan denies getting n...   \n",
       "7  sostoken Govt directs Alok Verma to join work ...   \n",
       "\n",
       "                                      decoder_target  \n",
       "1  Delhi techie wins free food from Swiggy for on...  \n",
       "2  New Zealand end Rohit Sharma-led India's 12-ma...  \n",
       "3  Aegon life iTerm insurance plan helps customer...  \n",
       "5  Rahat Fateh Ali Khan denies getting notice for...  \n",
       "7  Govt directs Alok Verma to join work 1 day bef...  "
      ]
     },
     "execution_count": 27,
     "metadata": {},
     "output_type": "execute_result"
    }
   ],
   "source": [
    "#요약 데이터에는 시작 토큰과 종료 토큰을 추가한다.\n",
    "data['decoder_input'] = data['headlines'].apply(lambda x : 'sostoken '+ x)\n",
    "data['decoder_target'] = data['headlines'].apply(lambda x : x + ' eostoken')\n",
    "data.head()"
   ]
  },
  {
   "cell_type": "code",
   "execution_count": 28,
   "id": "6dbaa434",
   "metadata": {},
   "outputs": [],
   "source": [
    "encoder_input = np.array(data['text']) # 인코더의 입력\n",
    "decoder_input = np.array(data['decoder_input']) # 디코더의 입력\n",
    "decoder_target = np.array(data['decoder_target']) # 디코더의 레이블"
   ]
  },
  {
   "cell_type": "code",
   "execution_count": 29,
   "id": "8cd93d8a",
   "metadata": {},
   "outputs": [
    {
     "name": "stdout",
     "output_type": "stream",
     "text": [
      "[ 8540  3215 72320 ... 29611 79672 91831]\n"
     ]
    }
   ],
   "source": [
    "indices = np.arange(encoder_input.shape[0])\n",
    "np.random.shuffle(indices)\n",
    "print(indices)"
   ]
  },
  {
   "cell_type": "code",
   "execution_count": 30,
   "id": "8716d01f",
   "metadata": {},
   "outputs": [],
   "source": [
    "encoder_input = encoder_input[indices]\n",
    "decoder_input = decoder_input[indices]\n",
    "decoder_target = decoder_target[indices]"
   ]
  },
  {
   "cell_type": "code",
   "execution_count": 31,
   "id": "9a09d787",
   "metadata": {},
   "outputs": [
    {
     "name": "stdout",
     "output_type": "stream",
     "text": [
      "테스트 데이터의 수 : 19175\n"
     ]
    }
   ],
   "source": [
    "n_of_val = int(len(encoder_input)*0.2)\n",
    "print('테스트 데이터의 수 :',n_of_val)"
   ]
  },
  {
   "cell_type": "code",
   "execution_count": 32,
   "id": "d8745025",
   "metadata": {},
   "outputs": [
    {
     "name": "stdout",
     "output_type": "stream",
     "text": [
      "훈련 데이터의 개수 : 76700\n",
      "훈련 레이블의 개수 : 76700\n",
      "테스트 데이터의 개수 : 19175\n",
      "테스트 레이블의 개수 : 19175\n"
     ]
    }
   ],
   "source": [
    "encoder_input_train = encoder_input[:-n_of_val]\n",
    "decoder_input_train = decoder_input[:-n_of_val]\n",
    "decoder_target_train = decoder_target[:-n_of_val]\n",
    "\n",
    "encoder_input_test = encoder_input[-n_of_val:]\n",
    "decoder_input_test = decoder_input[-n_of_val:]\n",
    "decoder_target_test = decoder_target[-n_of_val:]\n",
    "\n",
    "print('훈련 데이터의 개수 :', len(encoder_input_train))\n",
    "print('훈련 레이블의 개수 :',len(decoder_input_train))\n",
    "print('테스트 데이터의 개수 :',len(encoder_input_test))\n",
    "print('테스트 레이블의 개수 :',len(decoder_input_test))"
   ]
  },
  {
   "cell_type": "markdown",
   "id": "b30aba80",
   "metadata": {},
   "source": [
    "### 5. 정수 인코딩"
   ]
  },
  {
   "cell_type": "code",
   "execution_count": 35,
   "id": "9fe12d6e",
   "metadata": {},
   "outputs": [],
   "source": [
    "# 훈련 데이터 토크나이징\n",
    "\n",
    "src_tokenizer = Tokenizer() # 토크나이저 정의\n",
    "src_tokenizer.fit_on_texts(encoder_input_train) # 입력된 데이터로부터 단어 집합 생성"
   ]
  },
  {
   "cell_type": "code",
   "execution_count": 36,
   "id": "4a2e884d",
   "metadata": {},
   "outputs": [
    {
     "name": "stdout",
     "output_type": "stream",
     "text": [
      "단어 집합(vocabulary)의 크기 : 90307\n",
      "등장 빈도가 6번 이하인 희귀 단어의 수: 65866\n",
      "단어 집합에서 희귀 단어를 제외시킬 경우의 단어 집합의 크기 24441\n",
      "단어 집합에서 희귀 단어의 비율: 72.93565282868437\n",
      "전체 등장 빈도에서 희귀 단어 등장 빈도 비율: 2.778966268056146\n"
     ]
    }
   ],
   "source": [
    "threshold = 7\n",
    "total_cnt = len(src_tokenizer.word_index) # 단어의 수\n",
    "rare_cnt = 0 # 등장 빈도수가 threshold보다 작은 단어의 개수를 카운트\n",
    "total_freq = 0 # 훈련 데이터의 전체 단어 빈도수 총 합\n",
    "rare_freq = 0 # 등장 빈도수가 threshold보다 작은 단어의 등장 빈도수의 총 합\n",
    "\n",
    "# 단어와 빈도수의 쌍(pair)을 key와 value로 받는다.\n",
    "for key, value in src_tokenizer.word_counts.items():\n",
    "    total_freq = total_freq + value\n",
    "\n",
    "    # 단어의 등장 빈도수가 threshold보다 작으면\n",
    "    if(value < threshold):\n",
    "        rare_cnt = rare_cnt + 1\n",
    "        rare_freq = rare_freq + value\n",
    "\n",
    "print('단어 집합(vocabulary)의 크기 :',total_cnt)\n",
    "print('등장 빈도가 %s번 이하인 희귀 단어의 수: %s'%(threshold - 1, rare_cnt))\n",
    "print('단어 집합에서 희귀 단어를 제외시킬 경우의 단어 집합의 크기 %s'%(total_cnt - rare_cnt))\n",
    "print(\"단어 집합에서 희귀 단어의 비율:\", (rare_cnt / total_cnt)*100)\n",
    "print(\"전체 등장 빈도에서 희귀 단어 등장 빈도 비율:\", (rare_freq / total_freq)*100)"
   ]
  },
  {
   "cell_type": "code",
   "execution_count": 37,
   "id": "eae94b00",
   "metadata": {},
   "outputs": [],
   "source": [
    "src_vocab = 24000\n",
    "src_tokenizer = Tokenizer(num_words = src_vocab) # 단어 집합의 크기를 8,000으로 제한\n",
    "src_tokenizer.fit_on_texts(encoder_input_train) # 단어 집합 재생성."
   ]
  },
  {
   "cell_type": "code",
   "execution_count": 38,
   "id": "d0d75a7a",
   "metadata": {},
   "outputs": [
    {
     "name": "stdout",
     "output_type": "stream",
     "text": [
      "[[884, 8, 10, 11, 37, 207, 650, 42, 1396, 2, 1632, 74, 570, 943, 865, 7, 585, 3935, 142, 1, 12025, 5, 1, 585, 650, 89, 85, 26, 696, 2, 3623, 7, 1, 109, 703, 5, 1, 746, 185, 789, 21, 8, 29, 8115, 264, 85, 656, 2, 1587, 822, 6784, 3223, 4197, 57, 10], [1057, 115, 46, 280, 51, 17, 272, 60, 13871, 10280, 317, 151, 1574, 1622, 10, 1369, 29, 24, 5, 32, 235, 6, 8488, 323, 178, 43, 8, 9086, 20, 3, 424, 789, 2584, 32, 71, 1574, 8, 6208, 1156, 51, 32, 69, 45, 1066, 16, 32, 7, 13871, 10280, 45, 3439, 249, 3, 20036, 5, 3509, 43, 13, 33, 1057], [3, 242, 5, 111, 582, 172, 19, 1, 1906, 5, 17, 272, 60, 7600, 6339, 3510, 8, 1085, 310, 14, 82, 25, 259, 16, 317, 451, 15379, 376, 6, 109, 1309, 374, 4, 1, 242, 346, 15, 731, 3675, 6544, 6, 40, 1650, 151, 1873, 2209, 7600, 6339, 3510, 13, 523, 2, 318, 7, 473, 666]]\n"
     ]
    }
   ],
   "source": [
    "# 텍스트 시퀀스를 정수 시퀀스로 변환\n",
    "encoder_input_train = src_tokenizer.texts_to_sequences(encoder_input_train) \n",
    "encoder_input_test = src_tokenizer.texts_to_sequences(encoder_input_test)\n",
    "\n",
    "#잘 진행되었는지 샘플 출력\n",
    "print(encoder_input_train[:3])"
   ]
  },
  {
   "cell_type": "code",
   "execution_count": 40,
   "id": "9480248f",
   "metadata": {},
   "outputs": [],
   "source": [
    "# headline 데이터에 대해서도 토큰화 진행\n",
    "\n",
    "tar_tokenizer = Tokenizer()\n",
    "tar_tokenizer.fit_on_texts(decoder_input_train)"
   ]
  },
  {
   "cell_type": "code",
   "execution_count": 41,
   "id": "8de06d04",
   "metadata": {},
   "outputs": [
    {
     "name": "stdout",
     "output_type": "stream",
     "text": [
      "단어 집합(vocabulary)의 크기 : 40481\n",
      "등장 빈도가 5번 이하인 희귀 단어의 수: 29296\n",
      "단어 집합에서 희귀 단어를 제외시킬 경우의 단어 집합의 크기 11185\n",
      "단어 집합에서 희귀 단어의 비율: 72.3697537116178\n",
      "전체 등장 빈도에서 희귀 단어 등장 빈도 비율: 6.320787498390159\n"
     ]
    }
   ],
   "source": [
    "threshold = 6\n",
    "total_cnt = len(tar_tokenizer.word_index) # 단어의 수\n",
    "rare_cnt = 0 # 등장 빈도수가 threshold보다 작은 단어의 개수를 카운트\n",
    "total_freq = 0 # 훈련 데이터의 전체 단어 빈도수 총 합\n",
    "rare_freq = 0 # 등장 빈도수가 threshold보다 작은 단어의 등장 빈도수의 총 합\n",
    "\n",
    "# 단어와 빈도수의 쌍(pair)을 key와 value로 받는다.\n",
    "for key, value in tar_tokenizer.word_counts.items():\n",
    "    total_freq = total_freq + value\n",
    "\n",
    "    # 단어의 등장 빈도수가 threshold보다 작으면\n",
    "    if(value < threshold):\n",
    "        rare_cnt = rare_cnt + 1\n",
    "        rare_freq = rare_freq + value\n",
    "\n",
    "print('단어 집합(vocabulary)의 크기 :',total_cnt)\n",
    "print('등장 빈도가 %s번 이하인 희귀 단어의 수: %s'%(threshold - 1, rare_cnt))\n",
    "print('단어 집합에서 희귀 단어를 제외시킬 경우의 단어 집합의 크기 %s'%(total_cnt - rare_cnt))\n",
    "print(\"단어 집합에서 희귀 단어의 비율:\", (rare_cnt / total_cnt)*100)\n",
    "print(\"전체 등장 빈도에서 희귀 단어 등장 빈도 비율:\", (rare_freq / total_freq)*100)"
   ]
  },
  {
   "cell_type": "code",
   "execution_count": 42,
   "id": "f40522f8",
   "metadata": {},
   "outputs": [
    {
     "name": "stdout",
     "output_type": "stream",
     "text": [
      "input\n",
      "input  [[1, 877, 3, 448, 1544, 7, 1278, 4688, 89, 296], [1, 321, 172, 6, 6760, 250, 219, 335, 414], [1, 1749, 734, 14, 7616, 3649, 3562, 402, 3231, 330], [1, 1072, 20, 3871, 3383, 8689, 148, 717, 7, 637, 75], [1, 2524, 2480, 4540, 677, 941, 1807, 7, 493]]\n",
      "target\n",
      "decoder  [[877, 3, 448, 1544, 7, 1278, 4688, 89, 296, 2], [321, 172, 6, 6760, 250, 219, 335, 414, 2], [1749, 734, 14, 7616, 3649, 3562, 402, 3231, 330, 2], [1072, 20, 3871, 3383, 8689, 148, 717, 7, 637, 75, 2], [2524, 2480, 4540, 677, 941, 1807, 7, 493, 2]]\n"
     ]
    }
   ],
   "source": [
    "tar_vocab = 11000\n",
    "tar_tokenizer = Tokenizer(num_words = tar_vocab) \n",
    "tar_tokenizer.fit_on_texts(decoder_input_train)\n",
    "tar_tokenizer.fit_on_texts(decoder_target_train)\n",
    "\n",
    "# 텍스트 시퀀스를 정수 시퀀스로 변환\n",
    "decoder_input_train = tar_tokenizer.texts_to_sequences(decoder_input_train) \n",
    "decoder_target_train = tar_tokenizer.texts_to_sequences(decoder_target_train)\n",
    "decoder_input_test = tar_tokenizer.texts_to_sequences(decoder_input_test)\n",
    "decoder_target_test = tar_tokenizer.texts_to_sequences(decoder_target_test)\n",
    "\n",
    "#잘 변환되었는지 확인\n",
    "print('input')\n",
    "print('input ',decoder_input_train[:5])\n",
    "print('target')\n",
    "print('decoder ',decoder_target_train[:5])"
   ]
  },
  {
   "cell_type": "markdown",
   "id": "ddb861fc",
   "metadata": {},
   "source": [
    "### 6. 데이터 정제"
   ]
  },
  {
   "cell_type": "code",
   "execution_count": 43,
   "id": "4f9dfb14",
   "metadata": {},
   "outputs": [
    {
     "name": "stdout",
     "output_type": "stream",
     "text": [
      "삭제할 훈련 데이터의 개수 : 0\n",
      "삭제할 테스트 데이터의 개수 : 0\n",
      "훈련 데이터의 개수 : 76700\n",
      "훈련 레이블의 개수 : 76700\n",
      "테스트 데이터의 개수 : 19175\n",
      "테스트 레이블의 개수 : 19175\n"
     ]
    },
    {
     "name": "stderr",
     "output_type": "stream",
     "text": [
      "/opt/conda/lib/python3.9/site-packages/numpy/lib/function_base.py:4454: VisibleDeprecationWarning: Creating an ndarray from ragged nested sequences (which is a list-or-tuple of lists-or-tuples-or ndarrays with different lengths or shapes) is deprecated. If you meant to do this, you must specify 'dtype=object' when creating the ndarray.\n",
      "  arr = asarray(arr)\n"
     ]
    }
   ],
   "source": [
    "drop_train = [index for index, sentence in enumerate(decoder_input_train) if len(sentence) == 1]\n",
    "drop_test = [index for index, sentence in enumerate(decoder_input_test) if len(sentence) == 1]\n",
    "\n",
    "print('삭제할 훈련 데이터의 개수 :',len(drop_train))\n",
    "print('삭제할 테스트 데이터의 개수 :',len(drop_test))\n",
    "\n",
    "encoder_input_train = np.delete(encoder_input_train, drop_train, axis=0)\n",
    "decoder_input_train = np.delete(decoder_input_train, drop_train, axis=0)\n",
    "decoder_target_train = np.delete(decoder_target_train, drop_train, axis=0)\n",
    "\n",
    "encoder_input_test = np.delete(encoder_input_test, drop_test, axis=0)\n",
    "decoder_input_test = np.delete(decoder_input_test, drop_test, axis=0)\n",
    "decoder_target_test = np.delete(decoder_target_test, drop_test, axis=0)\n",
    "\n",
    "print('훈련 데이터의 개수 :', len(encoder_input_train))\n",
    "print('훈련 레이블의 개수 :',len(decoder_input_train))\n",
    "print('테스트 데이터의 개수 :',len(encoder_input_test))\n",
    "print('테스트 레이블의 개수 :',len(decoder_input_test))"
   ]
  },
  {
   "cell_type": "markdown",
   "id": "495f24bb",
   "metadata": {},
   "source": [
    "### 7. 패딩"
   ]
  },
  {
   "cell_type": "code",
   "execution_count": 44,
   "id": "b0e07dcd",
   "metadata": {},
   "outputs": [],
   "source": [
    "encoder_input_train = pad_sequences(encoder_input_train, maxlen = text_max_len, padding='post')\n",
    "encoder_input_test = pad_sequences(encoder_input_test, maxlen = text_max_len, padding='post')\n",
    "decoder_input_train = pad_sequences(decoder_input_train, maxlen = summary_max_len, padding='post')\n",
    "decoder_target_train = pad_sequences(decoder_target_train, maxlen = summary_max_len, padding='post')\n",
    "decoder_input_test = pad_sequences(decoder_input_test, maxlen = summary_max_len, padding='post')\n",
    "decoder_target_test = pad_sequences(decoder_target_test, maxlen = summary_max_len, padding='post')"
   ]
  },
  {
   "cell_type": "markdown",
   "id": "44761731",
   "metadata": {},
   "source": [
    "## Step 3. 어텐션 메커니즘 적용"
   ]
  },
  {
   "cell_type": "markdown",
   "id": "227a11f6",
   "metadata": {},
   "source": [
    "### 인코더 설계"
   ]
  },
  {
   "cell_type": "code",
   "execution_count": 45,
   "id": "e5bbd14a",
   "metadata": {},
   "outputs": [
    {
     "name": "stdout",
     "output_type": "stream",
     "text": [
      "WARNING:tensorflow:Layer lstm will not use cuDNN kernels since it doesn't meet the criteria. It will use a generic GPU kernel as fallback when running on GPU.\n",
      "WARNING:tensorflow:Layer lstm_1 will not use cuDNN kernels since it doesn't meet the criteria. It will use a generic GPU kernel as fallback when running on GPU.\n",
      "WARNING:tensorflow:Layer lstm_2 will not use cuDNN kernels since it doesn't meet the criteria. It will use a generic GPU kernel as fallback when running on GPU.\n"
     ]
    }
   ],
   "source": [
    "from tensorflow.keras.layers import Input, LSTM, Embedding, Dense, Concatenate\n",
    "from tensorflow.keras.models import Model\n",
    "from tensorflow.keras.callbacks import EarlyStopping, ModelCheckpoint\n",
    "\n",
    "\n",
    "# 인코더 설계 시작\n",
    "embedding_dim = 128\n",
    "hidden_size = 256\n",
    "\n",
    "# 인코더\n",
    "encoder_inputs = Input(shape=(text_max_len,))\n",
    "\n",
    "# 인코더의 임베딩 층\n",
    "enc_emb = Embedding(src_vocab, embedding_dim)(encoder_inputs)\n",
    "\n",
    "# 인코더의 LSTM 1\n",
    "encoder_lstm1 = LSTM(hidden_size, return_sequences=True, return_state=True ,dropout = 0.4, recurrent_dropout = 0.4)\n",
    "encoder_output1, state_h1, state_c1 = encoder_lstm1(enc_emb)\n",
    "\n",
    "# 인코더의 LSTM 2\n",
    "encoder_lstm2 = LSTM(hidden_size, return_sequences=True, return_state=True, dropout=0.4, recurrent_dropout=0.4)\n",
    "encoder_output2, state_h2, state_c2 = encoder_lstm2(encoder_output1)\n",
    "\n",
    "# 인코더의 LSTM 3\n",
    "encoder_lstm3 = LSTM(hidden_size, return_state=True, return_sequences=True, dropout=0.4, recurrent_dropout=0.4)\n",
    "encoder_outputs, state_h, state_c= encoder_lstm3(encoder_output2)"
   ]
  },
  {
   "cell_type": "markdown",
   "id": "05d447c4",
   "metadata": {},
   "source": [
    "### 디코더 설계"
   ]
  },
  {
   "cell_type": "code",
   "execution_count": 46,
   "id": "c863cc8a",
   "metadata": {},
   "outputs": [
    {
     "name": "stdout",
     "output_type": "stream",
     "text": [
      "WARNING:tensorflow:Layer lstm_3 will not use cuDNN kernels since it doesn't meet the criteria. It will use a generic GPU kernel as fallback when running on GPU.\n"
     ]
    }
   ],
   "source": [
    "decoder_inputs = Input(shape=(None,))\n",
    "\n",
    "# 디코더의 임베딩 층\n",
    "dec_emb_layer = Embedding(tar_vocab, embedding_dim)\n",
    "dec_emb = dec_emb_layer(decoder_inputs)\n",
    "\n",
    "# 디코더의 LSTM\n",
    "decoder_lstm = LSTM(hidden_size, return_sequences = True, return_state = True, dropout = 0.4, recurrent_dropout=0.2)\n",
    "decoder_outputs, _, _ = decoder_lstm(dec_emb, initial_state = [state_h, state_c])"
   ]
  },
  {
   "cell_type": "code",
   "execution_count": 66,
   "id": "1d0ab9c0",
   "metadata": {},
   "outputs": [
    {
     "name": "stdout",
     "output_type": "stream",
     "text": [
      "Model: \"model\"\n",
      "__________________________________________________________________________________________________\n",
      "Layer (type)                    Output Shape         Param #     Connected to                     \n",
      "==================================================================================================\n",
      "input_1 (InputLayer)            [(None, 60)]         0                                            \n",
      "__________________________________________________________________________________________________\n",
      "embedding (Embedding)           (None, 60, 128)      3072000     input_1[0][0]                    \n",
      "__________________________________________________________________________________________________\n",
      "lstm (LSTM)                     [(None, 60, 256), (N 394240      embedding[0][0]                  \n",
      "__________________________________________________________________________________________________\n",
      "input_2 (InputLayer)            [(None, None)]       0                                            \n",
      "__________________________________________________________________________________________________\n",
      "lstm_1 (LSTM)                   [(None, 60, 256), (N 525312      lstm[0][0]                       \n",
      "__________________________________________________________________________________________________\n",
      "embedding_1 (Embedding)         (None, None, 128)    1408000     input_2[0][0]                    \n",
      "__________________________________________________________________________________________________\n",
      "lstm_2 (LSTM)                   [(None, 60, 256), (N 525312      lstm_1[0][0]                     \n",
      "__________________________________________________________________________________________________\n",
      "lstm_3 (LSTM)                   [(None, None, 256),  394240      embedding_1[0][0]                \n",
      "                                                                 lstm_2[0][1]                     \n",
      "                                                                 lstm_2[0][2]                     \n",
      "__________________________________________________________________________________________________\n",
      "dense_1 (Dense)                 (None, None, 11000)  2827000     lstm_3[0][0]                     \n",
      "==================================================================================================\n",
      "Total params: 9,146,104\n",
      "Trainable params: 9,146,104\n",
      "Non-trainable params: 0\n",
      "__________________________________________________________________________________________________\n"
     ]
    }
   ],
   "source": [
    "# 디코더의 출력층\n",
    "decoder_softmax_layer = Dense(tar_vocab, activation = 'softmax')\n",
    "decoder_softmax_outputs = decoder_softmax_layer(decoder_outputs) \n",
    "# 모델 정의\n",
    "model = Model([encoder_inputs, decoder_inputs], decoder_softmax_outputs)\n",
    "model.summary()"
   ]
  },
  {
   "cell_type": "markdown",
   "id": "8cda94e4",
   "metadata": {},
   "source": [
    "### 어텐션 메커니즘 적용"
   ]
  },
  {
   "cell_type": "code",
   "execution_count": 59,
   "id": "cd957d04",
   "metadata": {},
   "outputs": [],
   "source": [
    "urllib.request.urlretrieve(\"https://raw.githubusercontent.com/thushv89/attention_keras/master/src/layers/attention.py\", filename=\"attention.py\")\n",
    "from attention import AttentionLayer"
   ]
  },
  {
   "cell_type": "code",
   "execution_count": 68,
   "id": "0b5da880",
   "metadata": {},
   "outputs": [
    {
     "name": "stdout",
     "output_type": "stream",
     "text": [
      "Model: \"model_1\"\n",
      "__________________________________________________________________________________________________\n",
      "Layer (type)                    Output Shape         Param #     Connected to                     \n",
      "==================================================================================================\n",
      "input_1 (InputLayer)            [(None, 60)]         0                                            \n",
      "__________________________________________________________________________________________________\n",
      "embedding (Embedding)           (None, 60, 128)      3072000     input_1[0][0]                    \n",
      "__________________________________________________________________________________________________\n",
      "lstm (LSTM)                     [(None, 60, 256), (N 394240      embedding[0][0]                  \n",
      "__________________________________________________________________________________________________\n",
      "input_2 (InputLayer)            [(None, None)]       0                                            \n",
      "__________________________________________________________________________________________________\n",
      "lstm_1 (LSTM)                   [(None, 60, 256), (N 525312      lstm[0][0]                       \n",
      "__________________________________________________________________________________________________\n",
      "embedding_1 (Embedding)         (None, None, 128)    1408000     input_2[0][0]                    \n",
      "__________________________________________________________________________________________________\n",
      "lstm_2 (LSTM)                   [(None, 60, 256), (N 525312      lstm_1[0][0]                     \n",
      "__________________________________________________________________________________________________\n",
      "lstm_3 (LSTM)                   [(None, None, 256),  394240      embedding_1[0][0]                \n",
      "                                                                 lstm_2[0][1]                     \n",
      "                                                                 lstm_2[0][2]                     \n",
      "__________________________________________________________________________________________________\n",
      "attention_layer (AdditiveAttent (None, None, 256)    256         lstm_3[0][0]                     \n",
      "                                                                 lstm_2[0][0]                     \n",
      "__________________________________________________________________________________________________\n",
      "concat_layer (Concatenate)      (None, None, 512)    0           lstm_3[0][0]                     \n",
      "                                                                 attention_layer[0][0]            \n",
      "__________________________________________________________________________________________________\n",
      "dense_2 (Dense)                 (None, None, 11000)  5643000     concat_layer[0][0]               \n",
      "==================================================================================================\n",
      "Total params: 11,962,360\n",
      "Trainable params: 11,962,360\n",
      "Non-trainable params: 0\n",
      "__________________________________________________________________________________________________\n"
     ]
    }
   ],
   "source": [
    "from tensorflow.keras.layers import AdditiveAttention\n",
    "\n",
    "# 어텐션 층(어텐션 함수)\n",
    "attn_layer = AdditiveAttention(name='attention_layer')\n",
    "\n",
    "# 인코더와 디코더의 모든 time step의 hidden state를 어텐션 층에 전달하고 결과를 리턴\n",
    "attn_out = attn_layer([decoder_outputs, encoder_outputs])\n",
    "\n",
    "\n",
    "# 어텐션의 결과와 디코더의 hidden state들을 연결\n",
    "decoder_concat_input = Concatenate(axis=-1, name='concat_layer')([decoder_outputs, attn_out])\n",
    "\n",
    "# 디코더의 출력층\n",
    "decoder_softmax_layer = Dense(tar_vocab, activation='softmax')\n",
    "decoder_softmax_outputs = decoder_softmax_layer(decoder_concat_input)\n",
    "\n",
    "# 모델 정의\n",
    "model = Model([encoder_inputs, decoder_inputs], decoder_softmax_outputs)\n",
    "model.summary()"
   ]
  },
  {
   "cell_type": "code",
   "execution_count": 69,
   "id": "dc4aed06",
   "metadata": {},
   "outputs": [
    {
     "name": "stdout",
     "output_type": "stream",
     "text": [
      "Epoch 1/50\n",
      "WARNING:tensorflow:AutoGraph could not transform <function Model.make_train_function.<locals>.train_function at 0x7f6b75c4cee0> and will run it as-is.\n",
      "Please report this to the TensorFlow team. When filing the bug, set the verbosity to 10 (on Linux, `export AUTOGRAPH_VERBOSITY=10`) and attach the full output.\n",
      "Cause: Unknown node type <gast.gast.Assign object at 0x7f6b75845730>\n",
      "To silence this warning, decorate the function with @tf.autograph.experimental.do_not_convert\n",
      "WARNING: AutoGraph could not transform <function Model.make_train_function.<locals>.train_function at 0x7f6b75c4cee0> and will run it as-is.\n",
      "Please report this to the TensorFlow team. When filing the bug, set the verbosity to 10 (on Linux, `export AUTOGRAPH_VERBOSITY=10`) and attach the full output.\n",
      "Cause: Unknown node type <gast.gast.Assign object at 0x7f6b75845730>\n",
      "To silence this warning, decorate the function with @tf.autograph.experimental.do_not_convert\n",
      "300/300 [==============================] - ETA: 0s - loss: 5.8663WARNING:tensorflow:AutoGraph could not transform <function Model.make_test_function.<locals>.test_function at 0x7f6b774a5550> and will run it as-is.\n",
      "Please report this to the TensorFlow team. When filing the bug, set the verbosity to 10 (on Linux, `export AUTOGRAPH_VERBOSITY=10`) and attach the full output.\n",
      "Cause: closure mismatch, requested ('self', 'step_function'), but source function had ()\n",
      "To silence this warning, decorate the function with @tf.autograph.experimental.do_not_convert\n",
      "WARNING: AutoGraph could not transform <function Model.make_test_function.<locals>.test_function at 0x7f6b774a5550> and will run it as-is.\n",
      "Please report this to the TensorFlow team. When filing the bug, set the verbosity to 10 (on Linux, `export AUTOGRAPH_VERBOSITY=10`) and attach the full output.\n",
      "Cause: closure mismatch, requested ('self', 'step_function'), but source function had ()\n",
      "To silence this warning, decorate the function with @tf.autograph.experimental.do_not_convert\n",
      "300/300 [==============================] - 249s 802ms/step - loss: 5.8663 - val_loss: 5.4440\n",
      "Epoch 2/50\n",
      "300/300 [==============================] - 238s 792ms/step - loss: 5.2779 - val_loss: 5.0385\n",
      "Epoch 3/50\n",
      "300/300 [==============================] - 238s 793ms/step - loss: 4.9183 - val_loss: 4.7482\n",
      "Epoch 4/50\n",
      "300/300 [==============================] - 238s 794ms/step - loss: 4.6497 - val_loss: 4.5983\n",
      "Epoch 5/50\n",
      "300/300 [==============================] - 238s 794ms/step - loss: 4.4406 - val_loss: 4.4261\n",
      "Epoch 6/50\n",
      "300/300 [==============================] - 237s 792ms/step - loss: 4.2703 - val_loss: 4.3123\n",
      "Epoch 7/50\n",
      "300/300 [==============================] - 237s 790ms/step - loss: 4.1227 - val_loss: 4.2164\n",
      "Epoch 8/50\n",
      "300/300 [==============================] - 237s 790ms/step - loss: 3.9910 - val_loss: 4.1423\n",
      "Epoch 9/50\n",
      "300/300 [==============================] - 237s 789ms/step - loss: 3.8773 - val_loss: 4.0733\n",
      "Epoch 10/50\n",
      "300/300 [==============================] - 236s 788ms/step - loss: 3.7747 - val_loss: 4.0235\n",
      "Epoch 11/50\n",
      "300/300 [==============================] - 236s 786ms/step - loss: 3.6826 - val_loss: 3.9735\n",
      "Epoch 12/50\n",
      "300/300 [==============================] - 237s 790ms/step - loss: 3.5978 - val_loss: 3.9455\n",
      "Epoch 13/50\n",
      "300/300 [==============================] - 238s 793ms/step - loss: 3.5208 - val_loss: 3.9033\n",
      "Epoch 14/50\n",
      "300/300 [==============================] - 236s 787ms/step - loss: 3.4504 - val_loss: 3.8742\n",
      "Epoch 15/50\n",
      "300/300 [==============================] - 236s 787ms/step - loss: 3.3831 - val_loss: 3.8647\n",
      "Epoch 16/50\n",
      "300/300 [==============================] - 236s 787ms/step - loss: 3.3250 - val_loss: 3.8406\n",
      "Epoch 17/50\n",
      "300/300 [==============================] - 237s 790ms/step - loss: 3.2691 - val_loss: 3.8170\n",
      "Epoch 18/50\n",
      "300/300 [==============================] - 236s 788ms/step - loss: 3.2147 - val_loss: 3.8067\n",
      "Epoch 19/50\n",
      "300/300 [==============================] - 237s 789ms/step - loss: 3.1683 - val_loss: 3.7968\n",
      "Epoch 20/50\n",
      "300/300 [==============================] - 236s 787ms/step - loss: 3.1232 - val_loss: 3.7858\n",
      "Epoch 21/50\n",
      "300/300 [==============================] - 237s 791ms/step - loss: 3.0817 - val_loss: 3.7744\n",
      "Epoch 22/50\n",
      "300/300 [==============================] - 237s 791ms/step - loss: 3.0414 - val_loss: 3.7721\n",
      "Epoch 23/50\n",
      "300/300 [==============================] - 237s 791ms/step - loss: 2.9994 - val_loss: 3.7649\n",
      "Epoch 24/50\n",
      "300/300 [==============================] - 243s 809ms/step - loss: 2.9624 - val_loss: 3.7597\n",
      "Epoch 25/50\n",
      "300/300 [==============================] - 246s 821ms/step - loss: 2.9256 - val_loss: 3.7506\n",
      "Epoch 26/50\n",
      "300/300 [==============================] - 250s 832ms/step - loss: 2.8884 - val_loss: 3.7510\n",
      "Epoch 27/50\n",
      "300/300 [==============================] - 250s 834ms/step - loss: 2.8581 - val_loss: 3.7529\n",
      "Epoch 00027: early stopping\n"
     ]
    }
   ],
   "source": [
    "model.compile(optimizer='rmsprop', loss='sparse_categorical_crossentropy')\n",
    "es = EarlyStopping(monitor='val_loss', mode='min', verbose=1, patience = 2)\n",
    "history = model.fit(x = [encoder_input_train, decoder_input_train], y = decoder_target_train, \\\n",
    "          validation_data = ([encoder_input_test, decoder_input_test], decoder_target_test),\n",
    "          batch_size = 256, callbacks=[es], epochs = 50)"
   ]
  },
  {
   "cell_type": "code",
   "execution_count": 70,
   "id": "ebee2f68",
   "metadata": {},
   "outputs": [
    {
     "data": {
      "image/png": "[encoded data removed]",
      "text/plain": [
       "<Figure size 432x288 with 1 Axes>"
      ]
     },
     "metadata": {
      "needs_background": "light"
     },
     "output_type": "display_data"
    }
   ],
   "source": [
    "plt.plot(history.history['loss'], label='train')\n",
    "plt.plot(history.history['val_loss'], label='test')\n",
    "plt.legend()\n",
    "plt.show()"
   ]
  },
  {
   "cell_type": "markdown",
   "id": "9eb46cf0",
   "metadata": {},
   "source": [
    "## 실제 결과와 요약문 비교"
   ]
  },
  {
   "cell_type": "markdown",
   "id": "e1e6c791",
   "metadata": {},
   "source": [
    "### 인퍼런스 모델 구현"
   ]
  },
  {
   "cell_type": "code",
   "execution_count": 71,
   "id": "71b84f05",
   "metadata": {},
   "outputs": [],
   "source": [
    "src_index_to_word = src_tokenizer.index_word # 원문 단어 집합에서 정수 -> 단어를 얻음\n",
    "tar_word_to_index = tar_tokenizer.word_index # 요약 단어 집합에서 단어 -> 정수를 얻음\n",
    "tar_index_to_word = tar_tokenizer.index_word # 요약 단어 집합에서 정수 -> 단어를 얻음"
   ]
  },
  {
   "cell_type": "code",
   "execution_count": 72,
   "id": "2f5be144",
   "metadata": {},
   "outputs": [],
   "source": [
    "# 인코더 설계\n",
    "encoder_model = Model(inputs=encoder_inputs, outputs=[encoder_outputs, state_h, state_c])\n",
    "\n",
    "# 이전 시점의 상태들을 저장하는 텐서\n",
    "decoder_state_input_h = Input(shape=(hidden_size,))\n",
    "decoder_state_input_c = Input(shape=(hidden_size,))\n",
    "\n",
    "dec_emb2 = dec_emb_layer(decoder_inputs)\n",
    "# 문장의 다음 단어를 예측하기 위해서 초기 상태(initial_state)를 이전 시점의 상태로 사용. 이는 뒤의 함수 decode_sequence()에 구현\n",
    "# 훈련 과정에서와 달리 LSTM의 리턴하는 은닉 상태와 셀 상태인 state_h와 state_c를 버리지 않음.\n",
    "decoder_outputs2, state_h2, state_c2 = decoder_lstm(dec_emb2, initial_state=[decoder_state_input_h, decoder_state_input_c])"
   ]
  },
  {
   "cell_type": "code",
   "execution_count": 74,
   "id": "ac24cfb2",
   "metadata": {},
   "outputs": [],
   "source": [
    "# 어텐션 함수\n",
    "decoder_hidden_state_input = Input(shape=(text_max_len, hidden_size))\n",
    "attn_out_inf = attn_layer([decoder_outputs2, decoder_hidden_state_input])\n",
    "decoder_inf_concat = Concatenate(axis=-1, name='concat')([decoder_outputs2, attn_out_inf])\n",
    "\n",
    "# 디코더의 출력층\n",
    "decoder_outputs2 = decoder_softmax_layer(decoder_inf_concat) \n",
    "\n",
    "# 최종 디코더 모델\n",
    "decoder_model = Model(\n",
    "    [decoder_inputs] + [decoder_hidden_state_input,decoder_state_input_h, decoder_state_input_c],\n",
    "    [decoder_outputs2] + [state_h2, state_c2])\n"
   ]
  },
  {
   "cell_type": "code",
   "execution_count": 75,
   "id": "51ef6b82",
   "metadata": {},
   "outputs": [],
   "source": [
    "def decode_sequence(input_seq):\n",
    "    # 입력으로부터 인코더의 상태를 얻음\n",
    "    e_out, e_h, e_c = encoder_model.predict(input_seq)\n",
    "\n",
    "     # <SOS>에 해당하는 토큰 생성\n",
    "    target_seq = np.zeros((1,1))\n",
    "    target_seq[0, 0] = tar_word_to_index['sostoken']\n",
    "\n",
    "    stop_condition = False\n",
    "    decoded_sentence = ''\n",
    "    while not stop_condition: # stop_condition이 True가 될 때까지 루프 반복\n",
    "\n",
    "        output_tokens, h, c = decoder_model.predict([target_seq] + [e_out, e_h, e_c])\n",
    "        sampled_token_index = np.argmax(output_tokens[0, -1, :])\n",
    "        sampled_token = tar_index_to_word[sampled_token_index]\n",
    "\n",
    "        if(sampled_token!='eostoken'):\n",
    "            decoded_sentence += ' '+sampled_token\n",
    "\n",
    "        #  <eos>에 도달하거나 최대 길이를 넘으면 중단.\n",
    "        if (sampled_token == 'eostoken'  or len(decoded_sentence.split()) >= (summary_max_len-1)):\n",
    "            stop_condition = True\n",
    "\n",
    "        # 길이가 1인 타겟 시퀀스를 업데이트\n",
    "        target_seq = np.zeros((1,1))\n",
    "        target_seq[0, 0] = sampled_token_index\n",
    "\n",
    "        # 상태를 업데이트 합니다.\n",
    "        e_h, e_c = h, c\n",
    "\n",
    "    return decoded_sentence"
   ]
  },
  {
   "cell_type": "code",
   "execution_count": 76,
   "id": "e690d2f1",
   "metadata": {},
   "outputs": [],
   "source": [
    "# 원문의 정수 시퀀스를 텍스트 시퀀스로 변환\n",
    "def seq2text(input_seq):\n",
    "    temp=''\n",
    "    for i in input_seq:\n",
    "        if(i!=0):\n",
    "            temp = temp + src_index_to_word[i]+' '\n",
    "    return temp\n",
    "\n",
    "# 요약문의 정수 시퀀스를 텍스트 시퀀스로 변환\n",
    "def seq2summary(input_seq):\n",
    "    temp=''\n",
    "    for i in input_seq:\n",
    "        if((i!=0 and i!=tar_word_to_index['sostoken']) and i!=tar_word_to_index['eostoken']):\n",
    "            temp = temp + tar_index_to_word[i] + ' '\n",
    "    return temp"
   ]
  },
  {
   "cell_type": "code",
   "execution_count": 77,
   "id": "526f499d",
   "metadata": {},
   "outputs": [
    {
     "name": "stdout",
     "output_type": "stream",
     "text": [
      "원문 : spanish division b side coach di has been arrested as part of a match fixing investigation into his team's 12 0 loss to barcelona b on saturday following their loss the team were pushed into the zone after which the team's board requested the league to launch an investigation into possible match fixing \n",
      "실제 요약 : coach arrested for alleged fixing in team's record loss \n",
      "WARNING:tensorflow:AutoGraph could not transform <function Model.make_predict_function.<locals>.predict_function at 0x7f6b76fc4a60> and will run it as-is.\n",
      "Please report this to the TensorFlow team. When filing the bug, set the verbosity to 10 (on Linux, `export AUTOGRAPH_VERBOSITY=10`) and attach the full output.\n",
      "Cause: closure mismatch, requested ('self', 'step_function'), but source function had ()\n",
      "To silence this warning, decorate the function with @tf.autograph.experimental.do_not_convert\n",
      "WARNING: AutoGraph could not transform <function Model.make_predict_function.<locals>.predict_function at 0x7f6b76fc4a60> and will run it as-is.\n",
      "Please report this to the TensorFlow team. When filing the bug, set the verbosity to 10 (on Linux, `export AUTOGRAPH_VERBOSITY=10`) and attach the full output.\n",
      "Cause: closure mismatch, requested ('self', 'step_function'), but source function had ()\n",
      "To silence this warning, decorate the function with @tf.autograph.experimental.do_not_convert\n",
      "WARNING:tensorflow:AutoGraph could not transform <function Model.make_predict_function.<locals>.predict_function at 0x7f6b76fb8430> and will run it as-is.\n",
      "Please report this to the TensorFlow team. When filing the bug, set the verbosity to 10 (on Linux, `export AUTOGRAPH_VERBOSITY=10`) and attach the full output.\n",
      "Cause: closure mismatch, requested ('self', 'step_function'), but source function had ()\n",
      "To silence this warning, decorate the function with @tf.autograph.experimental.do_not_convert\n",
      "WARNING: AutoGraph could not transform <function Model.make_predict_function.<locals>.predict_function at 0x7f6b76fb8430> and will run it as-is.\n",
      "Please report this to the TensorFlow team. When filing the bug, set the verbosity to 10 (on Linux, `export AUTOGRAPH_VERBOSITY=10`) and attach the full output.\n",
      "Cause: closure mismatch, requested ('self', 'step_function'), but source function had ()\n",
      "To silence this warning, decorate the function with @tf.autograph.experimental.do_not_convert\n",
      "예측 요약 :  coach who played vs a football match in india\n",
      "\n",
      "\n",
      "원문 : the uk's jail is planning to move convicted terrorists to a special wing reserved for extremists to prevent radicalisation amid fears that criminals are leaving jails with extremist views the wing will be first of its kind in a british prison the recent uk parliament attacker who killed four people had converted to islam while serving a prison term \n",
      "실제 요약 : uk's jail first to have wing \n",
      "예측 요약 :  uk jail to death for anti gay gay firms\n",
      "\n",
      "\n",
      "원문 : school in maharashtra's latur district has allegedly expelled a 15 year old rape victim to maintain the dignity of the institution the girl claimed her admission was suspended after the police enquired the school about the case based on an fir filed by her school authorities said their reputation could be if she continued to study there the girl said \n",
      "실제 요약 : maha school expels rape victim to maintain its dignity \n",
      "예측 요약 :  maha school principal held for rape victim's minor girl\n",
      "\n",
      "\n",
      "원문 : alia bhatt who has admitted to being a kareena kapoor fan has said that shahid kapoor has told her she has no similarities with kareena alia said she was often called and added maybe because of few words we constantly say like people draw the parallel from there shahid kareena and alia worked together in punjab \n",
      "실제 요약 : shahid says i have no with kareena alia \n",
      "예측 요약 :  alia is a alia on ranbir alia\n",
      "\n",
      "\n",
      "원문 : who lost her engagement ring on a family farm 13 years ago has found it wrapped around a eighty four year old mary grams said she had never told her late husband about the diamond ring and swapped it for a cheap one the ring was discovered by her daughter in law and grams said i recognised it right away \n",
      "실제 요약 : ring lost in farm 13 years ago found wrapped on \n",
      "예측 요약 :  george clooney finds family of family of her family\n",
      "\n",
      "\n",
      "원문 : apple's co founder steve wozniak in an interview on tuesday said that late co founder steve jobs would be very happy with apple's innovation if he was alive apple's concern is more with end users and putting people above technology steve always acted that way he added other phone company had to come along and copy apple he further said \n",
      "실제 요약 : steve jobs would be very proud of apple's wozniak \n",
      "예측 요약 :  i would never make a apple co founder steve wozniak\n",
      "\n",
      "\n",
      "원문 : a government official was removed from his post for his comments on politics on social media in the kishtwar district of jammu and kashmir officials said on wednesday hussain was attached to the office of collector land acquisition after an inquiry found his comments were on the part of the government employee and suggested political n \n",
      "실제 요약 : j k govt official transferred for remarks on politics online \n",
      "예측 요약 :  j k govt summons govt over tweet on j k govt\n",
      "\n",
      "\n",
      "원문 : spokesperson abhishek singhvi on friday called the rafale deal a saga of multi crore conflict of interest and said the government should agree to a joint parliamentary committee probe if there is nothing to hide in the contract congress president rahul gandhi had earlier demanded a joint parliamentary committee probe and given finance minister arun jaitley 24 hours to respond \n",
      "실제 요약 : rafale deal is a multi crore conflict of interest congress \n",
      "예측 요약 :  govt should not be a real to build a rafale deal\n",
      "\n",
      "\n",
      "원문 : speaking at the university of california congress vice president rahul gandhi said he worked behind the scenes in fighting terrorism in jammu and kashmir for nine years and pm narendra modi destroyed all their good work he further slammed the centre for demonetisation saying decisions like demonetisation taken without asking chief economic advisor and parliament caused tremendous damage \n",
      "실제 요약 : for j k for 9 yrs pm modi destroyed all work rahul \n",
      "예측 요약 :  pm modi is i was black pm modi\n",
      "\n",
      "\n",
      "원문 : in a first uk based scientists have developed an affordable method to 3d print a flexible energy storing the printing method glue and gel layer by layer to make a which stores energy on its surface without chemical reactions as in a battery the could be used in the future to power smartphones said researchers \n",
      "실제 요약 : uk scientists develop first 3d printed wearable \n",
      "예측 요약 :  3d printed 3d printed electricity for 3d printed in 3d\n",
      "\n",
      "\n",
      "원문 : amid the controversy over the film 'the accidental prime minister' former jammu and kashmir chief minister omar abdullah tweeted can't wait for when they make the insensitive prime minister so much worse than being the accidental one the movie is based on a book on manmohan singh's life during his tenure as the prime minister of india \n",
      "실제 요약 : can't wait for them to make 'the prime omar \n",
      "예측 요약 :  people should be allowed to watch pm modi\n",
      "\n",
      "\n",
      "원문 : twitter has refused to take down a tweet by us president donald trump on north korea saying it was and in the public interest trump's tweet threatening that north korea won't be around much longer was reported for violating twitter's terms of service by some users the policy bans using the platform to make violent threats directly or indirectly \n",
      "실제 요약 : twitter refuses to delete trump's tweet threatening n korea \n",
      "예측 요약 :  trump slams us over comments on n korea\n",
      "\n",
      "\n",
      "원문 : former finance minister and senior congress leader p chidambaram's son karti chidambaram left for london on thursday after the cbi raided his residence in connection with money laundering in the aircel maxis deal karti is travelling as per earlier travel plans he will return after a few days there is no ban on his travel p chidambaram said \n",
      "실제 요약 : chidambaram's son karti leaves for london after cbi raids \n",
      "예측 요약 :  karti chidambaram chidambaram in law scam case\n",
      "\n",
      "\n",
      "원문 : turkish president recep erdoãâan on thursday ratified a legislation to deploy turkish troops to qatar signalling turkey's support to the gulf nation as it faces isolation by fellow arab countries over its alleged support for terrorism erdoãâan who earlier criticised arab countries for cutting diplomatic ties with qatar also pledged to provide food and water supplies to the isolated nation \n",
      "실제 요약 : turkish prez erdoãâan approves deployment to qatar \n",
      "예측 요약 :  turkey prez orders to ban qatar amid crisis\n",
      "\n",
      "\n",
      "원문 : a class 8 science textbook published by the tamil nadu government claims that preventing sexual abuse is the girl's responsibility and suggests ways for girls to prevent it including not wearing provocative dresses take care of the way you sit when you are going to school by auto bus or by train keep distance from the other sex it added \n",
      "실제 요약 : sexual abuse girl's responsibility class 8 book \n",
      "예측 요약 :  sexual harassment in haryana shelter case\n",
      "\n",
      "\n",
      "원문 : the government railway police station in rajasthan's sri district has been prisoners to a wooden post for the past 30 years because it does not have a in case more than one person is arrested cops take the convict to bikaner 12 hours away the station has a 200 kilometre jurisdiction one of the largest in the state \n",
      "실제 요약 : police station without a chains convicts to post \n",
      "예측 요약 :  up police station suspended for 1st time in amritsar\n",
      "\n",
      "\n",
      "원문 : leader tejashwi yadav sat on a midnight dharna after he was denied permission by bihar's bhagalpur district administration to hold a public meeting citing security reasons yadav sat on dharna for nearly two hours till 3 30 am on thursday before calling it off notably the administration also imposed prohibitory orders in the area preventing assembly of over four persons \n",
      "실제 요약 : tejashwi sits on midnight dharna against district admin \n",
      "예측 요약 :  lalu prasad yadav returns to bihar shelter home\n",
      "\n",
      "\n",
      "원문 : indian wicketkeeper parthiv patel sledged former australian captain steve waugh in a match during his first tour of australia in 2003 04 patel asked waugh who was playing his last test series to hit one of his popular before quitting responding to then 18 year old keeper waugh said show a bit of respect you were in when i debuted \n",
      "실제 요약 : you were in when i waugh once told parthiv \n",
      "예측 요약 :  steve waugh was once played a cricket in australia\n",
      "\n",
      "\n",
      "원문 : indian army conducted a against the k cadre along the india myanmar border at 4 45 am on wednesday morning the retaliatory operation was launched after insurgents attacked an indian army column moving along the border while naga militants reportedly suffered heavy casualties the eastern command of the indian army said none of its personnel were hurt during the operation \n",
      "실제 요약 : indian army attacks along myanmar border \n",
      "예측 요약 :  army chief army chief kills 19 in india\n",
      "\n",
      "\n",
      "원문 : a parliamentary committee has slammed the union health and ayush ministries for the delay in framing a legislation to regulate the misleading advertisements for the sale of ayush medicines the ayush ministry had been notified of instances of improper advertisements allegedly of herbal and ayush products between april 2015 and january 2018 by the advertising standards council of india \n",
      "실제 요약 : panel slams govt over delay in law to regulate ads \n",
      "예측 요약 :  ugc slams govt for use of ads for use of\n",
      "\n",
      "\n",
      "원문 : four married couples in uttar pradesh allegedly got in a mass wedding organised by the state to avail benefits worth ã¢ââ¹35 000 under a government scheme the government gifts jewellery and household items to newly married couples who participate in the mass weddings the government has formed a committee to probe the allegations \n",
      "실제 요약 : married couples participate in up mass wedding for money \n",
      "예측 요약 :  couple wedding wedding in lucknow\n",
      "\n",
      "\n",
      "원문 : rbi governor raghuram rajan has said demonetisation hasn't been able to identify black money since most of it is back adding that tax collection has gone up by only ã¢ââ¹10 000 crore he said not too much money came in voluntary disclosure one has to see gains of at least ã¢ââ¹2 lakh crore to justify demonetisation exercise ã¢ââ he added \n",
      "실제 요약 : note ban could not identify black money rajan \n",
      "예측 요약 :  demonetisation is a bad money says rajan\n",
      "\n",
      "\n",
      "원문 : the university of lucknow has decided to introduce a six month comprising ritual services computer knowledge and english the course is aimed at addressing the dearth of trained in india and abroad university officials said there will be no age bar for admission to the course and anyone having passed class 12 would be eligible \n",
      "실제 요약 : lucknow university to introduce a course \n",
      "예측 요약 :  gujarat varsity to teach course to form\n",
      "\n",
      "\n",
      "원문 : brazilian football club goalkeeper marques gave his team a 1 0 lead against with a 20 yard free kick in the 19th minute of the match right footed shot went over the wall and into the top left corner of the goal i waited a lot for this moment later said \n",
      "실제 요약 : brazilian goalkeeper scores free kick from 20 yards out \n",
      "예측 요약 :  player scores free kick from kick from his own kick\n",
      "\n",
      "\n",
      "원문 : comedian kiku sharda who plays on 'the kapil sharma show' thanked host kapil sharma and former colleagues sunil grover and ali asgar on the completion of 100 episodes of the show big day for all of us congrats tweeted kiku the promotional poster he shared also showed sunil grover and ali characters on the show \n",
      "실제 요약 : thanks sunil on 100th episode of kapil's show \n",
      "예측 요약 :  kapil sharma is the kapil sharma show sunil grover\n",
      "\n",
      "\n",
      "원문 : it major infosys' chairman nandan nilekani has said that infosys should be managed by professionals as the founders can't keep coming back infosys will be in the right place at the right time again he added he further said that infosys now has the right strategy as there's a new ceo and focus is back on business \n",
      "실제 요약 : founders can't keep coming back to manage infosys nilekani \n",
      "예측 요약 :  infosys is a infosys infosys ceo\n",
      "\n",
      "\n",
      "원문 : the centre has made it mandatory for ministries and government departments to seek the finance ministry's approval for organising seminars conferences or workshops if the expenditure exceeds ã¢ââ¹40 lakh it added that departments should exercise economy with regard to travel and accommodation cost should be kept at a minimum this comes after two ministries reportedly posted bills \n",
      "실제 요약 : over ã¢ââ¹40 lakh govt events now need finance ministry approval \n",
      "예측 요약 :  govt asks govt to set up to govt for\n",
      "\n",
      "\n",
      "원문 : photographer an le apologised to oscar winning actor lupita for editing her hair on the cover of magazine while calling it a mistake he added i can see now that altering the image of her hair was an hurtful act he further said that as an immigrant it was his duty to represent diversity of beauty \n",
      "실제 요약 : photographer apologises for editing hair \n",
      "예측 요약 :  artist apologises for magazine cover of beauty\n",
      "\n",
      "\n",
      "원문 : uttar pradesh administration on wednesday denied permission to raj babbar led congress delegation to visit kasganj over law and order situation meanwhile the centre has directed the state government to send a comprehensive report about the violence which killed one and injured two people over 110 people have been arrested in connection with the violence that took place last week \n",
      "실제 요약 : congress delegation denied permission to visit kasganj \n",
      "예측 요약 :  up govt denies reports of anti romeo squads\n",
      "\n",
      "\n",
      "원문 : digital payments startup paytm has acquired chennai based ticketing startup for a reported amount of 40 million commenting on the development paytm said that founders share the same partnership mindset as paytm founded in 2007 the ticketing platform's majority stake was acquired by alibaba pictures last year a chinese film company under the alibaba group \n",
      "실제 요약 : paytm acquires alibaba backed for 40 million \n",
      "예측 요약 :  paytm payments startup buys paytm payments startup\n",
      "\n",
      "\n",
      "원문 : a cab driver was arrested by kolkata police for allegedly trying to abduct two women passengers and harassing one of them the accused driver allegedly harassed the female passenger who was sitting in the front seat police said passersby informed the police after hearing cry for help and the driver was caught by a police van before he could escape \n",
      "실제 요약 : cab driver attempts to abduct 2 women one of them \n",
      "예측 요약 :  mumbai driver held for assaulting woman in mumbai\n",
      "\n",
      "\n",
      "원문 : us president donald trump on thursday slammed news over its report claiming that secretary of state rex tillerson called him a moron and threatened to resign from his post earlier this year rex tillerson never threatened to resign this is fake news put out by low news and reporting standards no verification from me trump tweeted \n",
      "실제 요약 : trump raps news over 'fake' tillerson resignation report \n",
      "예측 요약 :  trump slams media over action against\n",
      "\n",
      "\n",
      "원문 : actress and bjp mp hema malini has been trolled for blaming the rising population of mumbai for the fire at a restaurant in kamala mills compound which killed 14 people hema malini should restrict her opinions to drinking water quality tweeted a user we apologise that we chose her as an mp wrote another user \n",
      "실제 요약 : hema malini trolled for her comment on mumbai fire \n",
      "예측 요약 :  mp bjp mp shashi tharoor threatens to fire at mumbai airport\n",
      "\n",
      "\n",
      "원문 : world's richest man jeff bezos led amazon has donated 1 million to a permanent fund run by wikipedia parent the alexa team shares a similar vision with wikipedia and the foundation to make it easier to share knowledge globally amazon said in a statement launched in 2016 the fund ensures the online lasting independence from influence \n",
      "실제 요약 : amazon donates 1 million to wikipedia parent's fund \n",
      "예측 요약 :  world's richest man jeff bezos wins world's first billionaire\n",
      "\n",
      "\n",
      "원문 : to four bjp mlas two aap mlas from the 70 member delhi vidhan sabha also voted for the nda backed presidential candidate ram nath kovind who won the polls on thursday prior to the polls aap had announced support to the opposition's candidate meira kumar the two mlas who cross voted are suspected to be among the few suspended legislators \n",
      "실제 요약 : 2 aap mlas cross voted for kovind in delhi assembly \n",
      "예측 요약 :  aap mlas cross presidential polls in presidential polls\n",
      "\n",
      "\n",
      "원문 : on thursday rescued a 6 year old girl within three hours of her being kidnapped after receiving a tip off from a local the police arrested the accused who had kidnapped her when she was coming back from school with an intention of sexually assaulting the victim the man who informed the police was felicitated with a good citizen award \n",
      "실제 요약 : abducted 6 yr old rescued within 3 hours by hyderabad police \n",
      "예측 요약 :  mumbai girl kidnapped by senior staff after being kidnapped by\n",
      "\n",
      "\n",
      "원문 : police on friday arrested three men for allegedly looting ã¢ââ¹7 7 lakh at gunpoint from a mother dairy booth owner and his nephew in modi nagar they were watching the distributor for nearly two months before they carried out the strike said an official however victims said that they couldn't identify the robbers as they wore helmets during the robbery \n",
      "실제 요약 : 3 held for robbing milk booth owner of ã¢ââ¹7 in ghaziabad \n",
      "예측 요약 :  man held for selling ã¢ââ¹2 lakh worth ã¢ââ¹1 lakh on whatsapp\n",
      "\n",
      "\n",
      "원문 : a mcdonald's franchise owner in canada has apologised after a pregnant woman was served cleaning solution instead of milk in sarah douglas the before realising the liquid had a smell of chemical the store owner said the coffee machine was being cleaned and the milk supply line was connected to the cleaning solution \n",
      "실제 요약 : mcdonald's serves pregnant woman cleaning solution in \n",
      "예측 요약 :  japanese doctor sues for copying babies\n",
      "\n",
      "\n",
      "원문 : of apple executive vivek tiwari who was shot dead by a policeman in lucknow on monday met uttar pradesh cm yogi adityanath he heard what i had to say and assured help i have faith in our state government and today that faith has strengthened tiwari's wife said earlier she wrote to adityanath demanding ã¢ââ¹1 crore compensation and cbi probe \n",
      "실제 요약 : he assured us help apple exec's family after meeting up cm \n",
      "예측 요약 :  apple exec was shot dead by apple yogi adityanath\n",
      "\n",
      "\n",
      "원문 : the newly launched patients advocacy group on saturday demanded free medicines safe tested blood zero births and reservation in government jobs for people suffering from the disease the group which is headed by seven patients working in different fields aims to communicate the interests of the patients to the government \n",
      "실제 요약 : patients demand free medicines job reservations \n",
      "예측 요약 :  in pictures of making women free\n",
      "\n",
      "\n",
      "원문 : india on wednesday released pakistani national imran qureshi warsi who had been lodged at a bhopal police station for the last nine months after the completion of his 10 year jail term he was convicted of conspiracy cheating and forging documents he has an indian wife and two children from the marriage \n",
      "실제 요약 : india releases pakistan national imran warsi after 10 yr jail \n",
      "예측 요약 :  pakistan releases 20 yr old pakistani security racket\n",
      "\n",
      "\n",
      "원문 : anushka sharma while talking about her character who suffers from cerebral palsy in the upcoming film 'zero' said my body used to hurt a lot because i would be creating that tension in my body constantly the actress added that it was difficult to voluntarily create an action that was happening in body while focusing on delivering dialogues \n",
      "실제 요약 : body used to hurt a lot anushka on her character in 'zero' \n",
      "예측 요약 :  anushka is a human anushka on his home\n",
      "\n",
      "\n",
      "원문 : japanese motor company has unveiled a concept bike that features two 15 inch wheels on its front the bike which was unveiled at the tokyo motor show is a three wheel leaning multi wheeler and is powered by a liquid cooled in line three cylinder engine the front also features tilting technology \n",
      "실제 요약 : unveils concept bike with 2 front wheels \n",
      "예측 요약 :  unveils concept with self driving car\n",
      "\n",
      "\n",
      "원문 : india will get ã¢ââ¹2 100 crore from the centre in the form of guaranteed borrowing ministry of civil aviation secretary rn choubey said on tuesday it is reportedly in debt to the tune of ã¢ââ¹50 000 crore and reported a loss of ã¢ââ¹5 crore in march last year earlier government's effort to privatise the loss making national carrier had failed \n",
      "실제 요약 : air india gets ã¢ââ¹2 100 crore from government \n",
      "예측 요약 :  india to get ã¢ââ¹2 000 crore for next year\n",
      "\n",
      "\n",
      "원문 : addressing the meeting of the congress working committee party president sonia gandhi on monday accused the narendra modi government of the winter session of parliament on grounds the pm had the to have a midnight celebration in parliament to launch an ill prepared and flawed gst but he lacks the courage to face the parliament she added \n",
      "실제 요약 : modi govt winter session of parliament sonia \n",
      "예측 요약 :  pm modi meets rahul gandhi as parliament\n",
      "\n",
      "\n",
      "원문 : defence minister nirmala sitharaman on friday said congress is playing a dangerous game it's playing up the card of religion it's that it may lead to division and communal disharmony which during 1947 partition congress party shall be solely responsible if any disharmony plays out between now and the 2019 polls she added \n",
      "실제 요약 : congress playing a dangerous game defence minister \n",
      "예측 요약 :  congress should be a game of game sitharaman\n",
      "\n",
      "\n",
      "원문 : qatar has claimed russian hackers planted a fake news story that led to saudi arabia and its regional allies breaking ties with the nation prompting the country's biggest crisis in three decades in the news story the qatari emir was reported as criticising us president donald trump and hailing saudi arabia's regional rival iran as an islamic power \n",
      "실제 요약 : qatar blames russian hackers for its diplomatic crisis \n",
      "예측 요약 :  us saudi arabia warns of sanctions on facebook\n",
      "\n",
      "\n",
      "원문 : a shopkeeper in west bengal's jalpaiguri on monday allegedly slapped and tortured two minor boys with electric shocks suspecting that they had stolen ã¢ââ¹100 from him the parents of the children have lodged an fir against the accused and police are investigating the incident the mother of the accused has claimed her son had only slapped the two boys \n",
      "실제 요약 : man gives 2 minor boys electric shocks for stealing ã¢ââ¹100 \n",
      "예측 요약 :  wb man beaten to death for stealing crore in wb\n",
      "\n",
      "\n",
      "원문 : cricket team captain mithali raj will receive a cash prize of ã¢ââ¹1 crore and a 600 square yard house plot by the telangana government cm k chandrasekhar rao met raj and her family on friday and also announced ã¢ââ¹25 lakh reward for her coach murthy raj led india to a second place finish in the recently concluded women's world cup \n",
      "실제 요약 : mithali to be awarded ã¢ââ¹1 crore land by telangana government \n",
      "예측 요약 :  bcci to get ã¢ââ¹5 cr for missing from andhra cm\n",
      "\n",
      "\n",
      "원문 : a total wealth of 950 billion india's financial capital mumbai has been ranked as the 12th richest city globally by south africa based market research group new world wealth mumbai also featured among the top 10 cities in terms of billionaire population with 28 billionaires the list of 15 wealthiest cities was topped by new york with 3 trillion wealth \n",
      "실제 요약 : mumbai world's 12th richest city with bn wealth report \n",
      "예측 요약 :  india's richest richest people get more than one year\n",
      "\n",
      "\n"
     ]
    }
   ],
   "source": [
    "for i in range(50, 100):\n",
    "    print(\"원문 :\", seq2text(encoder_input_test[i]))\n",
    "    print(\"실제 요약 :\", seq2summary(decoder_input_test[i]))\n",
    "    print(\"예측 요약 :\", decode_sequence(encoder_input_test[i].reshape(1, text_max_len)))\n",
    "    print(\"\\n\")"
   ]
  },
  {
   "cell_type": "markdown",
   "id": "6d665be8",
   "metadata": {},
   "source": [
    "## Summa을 이용해서 추출적 요약해보기"
   ]
  },
  {
   "cell_type": "code",
   "execution_count": 78,
   "id": "506dbab1",
   "metadata": {},
   "outputs": [],
   "source": [
    "import requests\n",
    "from summa.summarizer import summarize"
   ]
  },
  {
   "cell_type": "code",
   "execution_count": 79,
   "id": "f1aafc8b",
   "metadata": {},
   "outputs": [
    {
     "name": "stdout",
     "output_type": "stream",
     "text": [
      "1       Kunal Shah's credit card bill payment platform...\n",
      "2       New Zealand defeated India by 8 wickets in the...\n",
      "3       With Aegon Life iTerm Insurance plan, customer...\n",
      "5       Pakistani singer Rahat Fateh Ali Khan has deni...\n",
      "7       Weeks after ex-CBI Director Alok Verma told th...\n",
      "                              ...                        \n",
      "1600    France has triggered a plan for a no-deal Brex...\n",
      "1601    Chinese TV programmes appeared to be censoring...\n",
      "1603    Canada's 67-year-old poker player Scott Wellen...\n",
      "1606    Washington's 27-year-old Nick Naydev jumped st...\n",
      "1608    Citing an investigative news report, Congress ...\n",
      "Name: text, Length: 1500, dtype: object\n"
     ]
    }
   ],
   "source": [
    "input_text = data['text']\n",
    "print(input_text[:1500])"
   ]
  },
  {
   "cell_type": "code",
   "execution_count": 80,
   "id": "6c258ae4",
   "metadata": {},
   "outputs": [
    {
     "data": {
      "text/plain": [
       "\"Two minor cousins in Uttar Pradesh's Gorakhpur were allegedly repeatedly burnt with tongs and forced to eat human excreta by their family for being friends with two boys from the same school. The cousins revealed their ordeal to the police and Child Welfare Committee after being brought back to Gorakhpur from Nepal, where they had fled to escape the torture.\""
      ]
     },
     "execution_count": 80,
     "metadata": {},
     "output_type": "execute_result"
    }
   ],
   "source": [
    "input_text[10]"
   ]
  },
  {
   "cell_type": "code",
   "execution_count": 81,
   "id": "2119d60f",
   "metadata": {},
   "outputs": [
    {
     "name": "stdout",
     "output_type": "stream",
     "text": [
      "Original Sentence:\n",
      "The first voter of Independent India, Shyam Saran Negi, who is 100 years old now, will cast his vote in the upcoming assembly elections in Himachal Pradesh on November 9. The Election Commission has reportedly arranged a special vehicle for his commute to the polling station and back. Negi's daughter-in-law said he never missed a chance to cast his vote.\n",
      "\n",
      "Summary:\n",
      "The first voter of Independent India, Shyam Saran Negi, who is 100 years old now, will cast his vote in the upcoming assembly elections in Himachal Pradesh on November 9.\n",
      "----------------------------------------------------------------------------------------------------\n",
      "\n",
      "\n",
      "Original Sentence:\n",
      "Actor Suniel Shetty said it's embarrassing to be called hot by his daughter's friends. \"It's not like I do anything to look young because I don't even dye my hair. It's just the result of being fit all these years,\" added the 55-year-old. Suniel further said that according to his children, he and his wife Mana look like their siblings.\n",
      "\n",
      "Summary:\n",
      "Suniel further said that according to his children, he and his wife Mana look like their siblings.\n",
      "----------------------------------------------------------------------------------------------------\n",
      "\n",
      "\n",
      "Original Sentence:\n",
      "A school in Pune has issued a directive, asking female students to wear only white or skin-coloured underwear. While the school defended the move saying its intention was \"very pure\", parents protested and refused to sign the diktat which was carried in the students' diaries. Parents alleged that the school also restricted the number of times students could use toilets.\n",
      "\n",
      "Summary:\n",
      "Parents alleged that the school also restricted the number of times students could use toilets.\n",
      "----------------------------------------------------------------------------------------------------\n",
      "\n",
      "\n",
      "Original Sentence:\n",
      "Salman Khan, on being asked about nepotism in Bollywood, jokingly said, \"I got to know the meaning of it only after Kangana Ranaut talked about nepotism.\" \"If the person is talented, he should be given films...Talent management companies need to concentrate on people who have potential,\" he added. Earlier, Kangana had spoken about nepotism on the show 'Koffee With Karan'.\n",
      "\n",
      "Summary:\n",
      "\n",
      "----------------------------------------------------------------------------------------------------\n",
      "\n",
      "\n",
      "Original Sentence:\n",
      "The Mumbai Police's official Twitter account shared a post urging people to \"dial 100\" as it always helps, citing India opener Prithvi Shaw's hundred on Test debut. \"From our 100 to yours! It's always a good start... the very best to you @PrithviShaw #Dial100,\" the tweet read. Shaw, who plays for Mumbai in domestic cricket, made his international debut today. \n",
      "\n",
      "Summary:\n",
      "The Mumbai Police's official Twitter account shared a post urging people to \"dial 100\" as it always helps, citing India opener Prithvi Shaw's hundred on Test debut.\n",
      "----------------------------------------------------------------------------------------------------\n",
      "\n",
      "\n",
      "Original Sentence:\n",
      "According to a source on the sets of The Kapil Sharma Show, Gulshan Grover has revealed it was tough to do romantic scenes with Katrina Kaif in their film 'Boom'. Gulshan added they had to romance in front of Amitabh Bachchan and they practised it many times as they wanted to get the scene right, the source further revealed.\n",
      "\n",
      "Summary:\n",
      "\n",
      "----------------------------------------------------------------------------------------------------\n",
      "\n",
      "\n",
      "Original Sentence:\n",
      "Expressing concern over the ongoing military standoff, the United States on Wednesday said India and China should work together to come up with \"some better sort of arrangement\" for peace in Sikkim. The US State Department had earlier said that India and China should engage in a direct dialogue to reduce border tensions.\n",
      "\n",
      "Summary:\n",
      "\n",
      "----------------------------------------------------------------------------------------------------\n",
      "\n",
      "\n",
      "Original Sentence:\n",
      "Actor Tom Holland has said filming for 'Avengers: Infinity War' was a \"bizarre\" experience. \"It was just a...whirlwind to walk on set and see thirty of your favourite actors dressed up like superheroes, just having a coffee and hanging out,\" he added. Holland reprises the role of Spider-Man in the film, which also stars Chris Evans and Robert Downey Jr.\n",
      "\n",
      "Summary:\n",
      "Actor Tom Holland has said filming for 'Avengers: Infinity War' was a \"bizarre\" experience.\n",
      "----------------------------------------------------------------------------------------------------\n",
      "\n",
      "\n",
      "Original Sentence:\n",
      "A video shows Bihar minister Bijendra Prasad Yadav refusing to wear a skull cap offered to him at an event on Sunday. Yadav instead gave the cap to an aide standing behind him. Recalling CM Nitish Kumar's earlier criticism of PM Narendra Modi that \"kabhi topi lagani padegi aur kabhi tilak\", the Opposition alleged JD(U) is now under RSS ideology.\n",
      "\n",
      "Summary:\n",
      "A video shows Bihar minister Bijendra Prasad Yadav refusing to wear a skull cap offered to him at an event on Sunday.\n",
      "----------------------------------------------------------------------------------------------------\n",
      "\n",
      "\n"
     ]
    },
    {
     "ename": "KeyError",
     "evalue": "89833",
     "output_type": "error",
     "traceback": [
      "\u001b[0;31m---------------------------------------------------------------------------\u001b[0m",
      "\u001b[0;31mKeyError\u001b[0m                                  Traceback (most recent call last)",
      "\u001b[0;32m/opt/conda/lib/python3.9/site-packages/pandas/core/indexes/base.py\u001b[0m in \u001b[0;36mget_loc\u001b[0;34m(self, key, method, tolerance)\u001b[0m\n\u001b[1;32m   3360\u001b[0m             \u001b[0;32mtry\u001b[0m\u001b[0;34m:\u001b[0m\u001b[0;34m\u001b[0m\u001b[0;34m\u001b[0m\u001b[0m\n\u001b[0;32m-> 3361\u001b[0;31m                 \u001b[0;32mreturn\u001b[0m \u001b[0mself\u001b[0m\u001b[0;34m.\u001b[0m\u001b[0m_engine\u001b[0m\u001b[0;34m.\u001b[0m\u001b[0mget_loc\u001b[0m\u001b[0;34m(\u001b[0m\u001b[0mcasted_key\u001b[0m\u001b[0;34m)\u001b[0m\u001b[0;34m\u001b[0m\u001b[0;34m\u001b[0m\u001b[0m\n\u001b[0m\u001b[1;32m   3362\u001b[0m             \u001b[0;32mexcept\u001b[0m \u001b[0mKeyError\u001b[0m \u001b[0;32mas\u001b[0m \u001b[0merr\u001b[0m\u001b[0;34m:\u001b[0m\u001b[0;34m\u001b[0m\u001b[0;34m\u001b[0m\u001b[0m\n",
      "\u001b[0;32m/opt/conda/lib/python3.9/site-packages/pandas/_libs/index.pyx\u001b[0m in \u001b[0;36mpandas._libs.index.IndexEngine.get_loc\u001b[0;34m()\u001b[0m\n",
      "\u001b[0;32m/opt/conda/lib/python3.9/site-packages/pandas/_libs/index.pyx\u001b[0m in \u001b[0;36mpandas._libs.index.IndexEngine.get_loc\u001b[0;34m()\u001b[0m\n",
      "\u001b[0;32mpandas/_libs/hashtable_class_helper.pxi\u001b[0m in \u001b[0;36mpandas._libs.hashtable.Int64HashTable.get_item\u001b[0;34m()\u001b[0m\n",
      "\u001b[0;32mpandas/_libs/hashtable_class_helper.pxi\u001b[0m in \u001b[0;36mpandas._libs.hashtable.Int64HashTable.get_item\u001b[0;34m()\u001b[0m\n",
      "\u001b[0;31mKeyError\u001b[0m: 89833",
      "\nThe above exception was the direct cause of the following exception:\n",
      "\u001b[0;31mKeyError\u001b[0m                                  Traceback (most recent call last)",
      "\u001b[0;32m/tmp/ipykernel_1685/576473494.py\u001b[0m in \u001b[0;36m<module>\u001b[0;34m\u001b[0m\n\u001b[1;32m      1\u001b[0m \u001b[0;32mfor\u001b[0m \u001b[0m_\u001b[0m \u001b[0;32min\u001b[0m \u001b[0mrange\u001b[0m\u001b[0;34m(\u001b[0m\u001b[0;36m10\u001b[0m\u001b[0;34m)\u001b[0m \u001b[0;34m:\u001b[0m\u001b[0;34m\u001b[0m\u001b[0;34m\u001b[0m\u001b[0m\n\u001b[1;32m      2\u001b[0m     \u001b[0mrnum\u001b[0m \u001b[0;34m=\u001b[0m \u001b[0mnp\u001b[0m\u001b[0;34m.\u001b[0m\u001b[0mrandom\u001b[0m\u001b[0;34m.\u001b[0m\u001b[0mrandint\u001b[0m\u001b[0;34m(\u001b[0m\u001b[0mlen\u001b[0m\u001b[0;34m(\u001b[0m\u001b[0minput_text\u001b[0m\u001b[0;34m)\u001b[0m\u001b[0;34m)\u001b[0m\u001b[0;34m\u001b[0m\u001b[0;34m\u001b[0m\u001b[0m\n\u001b[0;32m----> 3\u001b[0;31m     \u001b[0mprint\u001b[0m\u001b[0;34m(\u001b[0m\u001b[0;34mf'Original Sentence:\\n{input_text[rnum]}\\n'\u001b[0m\u001b[0;34m)\u001b[0m\u001b[0;34m\u001b[0m\u001b[0;34m\u001b[0m\u001b[0m\n\u001b[0m\u001b[1;32m      4\u001b[0m     \u001b[0mprint\u001b[0m\u001b[0;34m(\u001b[0m\u001b[0;34mf'Summary:\\n{summarize(input_text[rnum], ratio=0.4)}'\u001b[0m\u001b[0;34m)\u001b[0m\u001b[0;34m\u001b[0m\u001b[0;34m\u001b[0m\u001b[0m\n\u001b[1;32m      5\u001b[0m     \u001b[0mprint\u001b[0m\u001b[0;34m(\u001b[0m\u001b[0;34m'--'\u001b[0m\u001b[0;34m*\u001b[0m\u001b[0;36m50\u001b[0m\u001b[0;34m+\u001b[0m\u001b[0;34m'\\n\\n'\u001b[0m\u001b[0;34m)\u001b[0m\u001b[0;34m\u001b[0m\u001b[0;34m\u001b[0m\u001b[0m\n",
      "\u001b[0;32m/opt/conda/lib/python3.9/site-packages/pandas/core/series.py\u001b[0m in \u001b[0;36m__getitem__\u001b[0;34m(self, key)\u001b[0m\n\u001b[1;32m    940\u001b[0m \u001b[0;34m\u001b[0m\u001b[0m\n\u001b[1;32m    941\u001b[0m         \u001b[0;32melif\u001b[0m \u001b[0mkey_is_scalar\u001b[0m\u001b[0;34m:\u001b[0m\u001b[0;34m\u001b[0m\u001b[0;34m\u001b[0m\u001b[0m\n\u001b[0;32m--> 942\u001b[0;31m             \u001b[0;32mreturn\u001b[0m \u001b[0mself\u001b[0m\u001b[0;34m.\u001b[0m\u001b[0m_get_value\u001b[0m\u001b[0;34m(\u001b[0m\u001b[0mkey\u001b[0m\u001b[0;34m)\u001b[0m\u001b[0;34m\u001b[0m\u001b[0;34m\u001b[0m\u001b[0m\n\u001b[0m\u001b[1;32m    943\u001b[0m \u001b[0;34m\u001b[0m\u001b[0m\n\u001b[1;32m    944\u001b[0m         \u001b[0;32mif\u001b[0m \u001b[0mis_hashable\u001b[0m\u001b[0;34m(\u001b[0m\u001b[0mkey\u001b[0m\u001b[0;34m)\u001b[0m\u001b[0;34m:\u001b[0m\u001b[0;34m\u001b[0m\u001b[0;34m\u001b[0m\u001b[0m\n",
      "\u001b[0;32m/opt/conda/lib/python3.9/site-packages/pandas/core/series.py\u001b[0m in \u001b[0;36m_get_value\u001b[0;34m(self, label, takeable)\u001b[0m\n\u001b[1;32m   1049\u001b[0m \u001b[0;34m\u001b[0m\u001b[0m\n\u001b[1;32m   1050\u001b[0m         \u001b[0;31m# Similar to Index.get_value, but we do not fall back to positional\u001b[0m\u001b[0;34m\u001b[0m\u001b[0;34m\u001b[0m\u001b[0m\n\u001b[0;32m-> 1051\u001b[0;31m         \u001b[0mloc\u001b[0m \u001b[0;34m=\u001b[0m \u001b[0mself\u001b[0m\u001b[0;34m.\u001b[0m\u001b[0mindex\u001b[0m\u001b[0;34m.\u001b[0m\u001b[0mget_loc\u001b[0m\u001b[0;34m(\u001b[0m\u001b[0mlabel\u001b[0m\u001b[0;34m)\u001b[0m\u001b[0;34m\u001b[0m\u001b[0;34m\u001b[0m\u001b[0m\n\u001b[0m\u001b[1;32m   1052\u001b[0m         \u001b[0;32mreturn\u001b[0m \u001b[0mself\u001b[0m\u001b[0;34m.\u001b[0m\u001b[0mindex\u001b[0m\u001b[0;34m.\u001b[0m\u001b[0m_get_values_for_loc\u001b[0m\u001b[0;34m(\u001b[0m\u001b[0mself\u001b[0m\u001b[0;34m,\u001b[0m \u001b[0mloc\u001b[0m\u001b[0;34m,\u001b[0m \u001b[0mlabel\u001b[0m\u001b[0;34m)\u001b[0m\u001b[0;34m\u001b[0m\u001b[0;34m\u001b[0m\u001b[0m\n\u001b[1;32m   1053\u001b[0m \u001b[0;34m\u001b[0m\u001b[0m\n",
      "\u001b[0;32m/opt/conda/lib/python3.9/site-packages/pandas/core/indexes/base.py\u001b[0m in \u001b[0;36mget_loc\u001b[0;34m(self, key, method, tolerance)\u001b[0m\n\u001b[1;32m   3361\u001b[0m                 \u001b[0;32mreturn\u001b[0m \u001b[0mself\u001b[0m\u001b[0;34m.\u001b[0m\u001b[0m_engine\u001b[0m\u001b[0;34m.\u001b[0m\u001b[0mget_loc\u001b[0m\u001b[0;34m(\u001b[0m\u001b[0mcasted_key\u001b[0m\u001b[0;34m)\u001b[0m\u001b[0;34m\u001b[0m\u001b[0;34m\u001b[0m\u001b[0m\n\u001b[1;32m   3362\u001b[0m             \u001b[0;32mexcept\u001b[0m \u001b[0mKeyError\u001b[0m \u001b[0;32mas\u001b[0m \u001b[0merr\u001b[0m\u001b[0;34m:\u001b[0m\u001b[0;34m\u001b[0m\u001b[0;34m\u001b[0m\u001b[0m\n\u001b[0;32m-> 3363\u001b[0;31m                 \u001b[0;32mraise\u001b[0m \u001b[0mKeyError\u001b[0m\u001b[0;34m(\u001b[0m\u001b[0mkey\u001b[0m\u001b[0;34m)\u001b[0m \u001b[0;32mfrom\u001b[0m \u001b[0merr\u001b[0m\u001b[0;34m\u001b[0m\u001b[0;34m\u001b[0m\u001b[0m\n\u001b[0m\u001b[1;32m   3364\u001b[0m \u001b[0;34m\u001b[0m\u001b[0m\n\u001b[1;32m   3365\u001b[0m         \u001b[0;32mif\u001b[0m \u001b[0mis_scalar\u001b[0m\u001b[0;34m(\u001b[0m\u001b[0mkey\u001b[0m\u001b[0;34m)\u001b[0m \u001b[0;32mand\u001b[0m \u001b[0misna\u001b[0m\u001b[0;34m(\u001b[0m\u001b[0mkey\u001b[0m\u001b[0;34m)\u001b[0m \u001b[0;32mand\u001b[0m \u001b[0;32mnot\u001b[0m \u001b[0mself\u001b[0m\u001b[0;34m.\u001b[0m\u001b[0mhasnans\u001b[0m\u001b[0;34m:\u001b[0m\u001b[0;34m\u001b[0m\u001b[0;34m\u001b[0m\u001b[0m\n",
      "\u001b[0;31mKeyError\u001b[0m: 89833"
     ]
    }
   ],
   "source": [
    "for _ in range(10) :\n",
    "    rnum = np.random.randint(len(input_text))\n",
    "    print(f'Original Sentence:\\n{input_text[rnum]}\\n')\n",
    "    print(f'Summary:\\n{summarize(input_text[rnum], ratio=0.4)}')\n",
    "    print('--'*50+'\\n\\n')"
   ]
  },
  {
   "cell_type": "markdown",
   "id": "2fa65f52",
   "metadata": {},
   "source": [
    "# 회고"
   ]
  },
  {
   "cell_type": "markdown",
   "id": "06360331",
   "metadata": {},
   "source": [
    "## 결과\n",
    "\n",
    "**추상적 요약**\n",
    "\n",
    "원문 : the uk's jail is planning to move convicted terrorists to a special wing reserved for extremists to prevent radicalisation amid fears that criminals are leaving jails with extremist views the wing will be first of its kind in a british prison the recent uk parliament attacker who killed four people had converted to islam while serving a prison term \n",
    "\n",
    "실제 요약 : uk's jail first to have wing \n",
    "\n",
    "예측 요약 :  uk jail to death for anti gay gay firms\n",
    "\n",
    "**추출적 요약**\n",
    "\n",
    "원문 : A school in Pune has issued a directive, asking female students to wear only white or skin-coloured underwear. While the school defended the move saying its intention was \"very pure\", parents protested and refused to sign the diktat which was carried in the students' diaries. Parents alleged that the school also restricted the number of times students could use toilets.\n",
    "\n",
    "요약:\n",
    "Parents alleged that the school also restricted the number of times students could use toilets.\n",
    "\n",
    "\n",
    "=> 요약은 된 것 같은데 유효한지는 모르겠습니다.."
   ]
  },
  {
   "cell_type": "markdown",
   "id": "d42be8ad",
   "metadata": {},
   "source": [
    "어려웠던 점 : 전처리를 다른방식으로 어떻게 해야될지 잘 모르겠다. 다른 방법이 떠오르지 않았다. 또한 훈련시간이 길다 보니 다른 시도를 할 엄두가 잘 안났다."
   ]
  },
  {
   "cell_type": "markdown",
   "id": "51648b58",
   "metadata": {},
   "source": [
    "참조 : https://github.com/Development-On-Saturday/AIFFEL_Exploration_Reference/blob/main/exp_11/notebooks/exp_11_v1.ipynb"
   ]
  },
  {
   "cell_type": "code",
   "execution_count": null,
   "id": "78053706",
   "metadata": {},
   "outputs": [],
   "source": []
  }
 ],
 "metadata": {
  "kernelspec": {
   "display_name": "Python 3 (ipykernel)",
   "language": "python",
   "name": "python3"
  },
  "language_info": {
   "codemirror_mode": {
    "name": "ipython",
    "version": 3
   },
   "file_extension": ".py",
   "mimetype": "text/x-python",
   "name": "python",
   "nbconvert_exporter": "python",
   "pygments_lexer": "ipython3",
   "version": "3.9.7"
  }
 },
 "nbformat": 4,
 "nbformat_minor": 5
}
