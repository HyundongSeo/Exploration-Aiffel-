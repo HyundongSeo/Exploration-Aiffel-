{
 "cells": [
  {
   "cell_type": "markdown",
   "id": "9187e6c4",
   "metadata": {},
   "source": [
    "# 1. 데이터 준비"
   ]
  },
  {
   "cell_type": "code",
   "execution_count": 1,
   "id": "d3d80e04",
   "metadata": {},
   "outputs": [
    {
     "data": {
      "text/html": [
       "<div>\n",
       "<style scoped>\n",
       "    .dataframe tbody tr th:only-of-type {\n",
       "        vertical-align: middle;\n",
       "    }\n",
       "\n",
       "    .dataframe tbody tr th {\n",
       "        vertical-align: top;\n",
       "    }\n",
       "\n",
       "    .dataframe thead th {\n",
       "        text-align: right;\n",
       "    }\n",
       "</style>\n",
       "<table border=\"1\" class=\"dataframe\">\n",
       "  <thead>\n",
       "    <tr style=\"text-align: right;\">\n",
       "      <th></th>\n",
       "      <th>id</th>\n",
       "      <th>document</th>\n",
       "      <th>label</th>\n",
       "    </tr>\n",
       "  </thead>\n",
       "  <tbody>\n",
       "    <tr>\n",
       "      <th>0</th>\n",
       "      <td>9976970</td>\n",
       "      <td>아 더빙.. 진짜 짜증나네요 목소리</td>\n",
       "      <td>0</td>\n",
       "    </tr>\n",
       "    <tr>\n",
       "      <th>1</th>\n",
       "      <td>3819312</td>\n",
       "      <td>흠...포스터보고 초딩영화줄....오버연기조차 가볍지 않구나</td>\n",
       "      <td>1</td>\n",
       "    </tr>\n",
       "    <tr>\n",
       "      <th>2</th>\n",
       "      <td>10265843</td>\n",
       "      <td>너무재밓었다그래서보는것을추천한다</td>\n",
       "      <td>0</td>\n",
       "    </tr>\n",
       "    <tr>\n",
       "      <th>3</th>\n",
       "      <td>9045019</td>\n",
       "      <td>교도소 이야기구먼 ..솔직히 재미는 없다..평점 조정</td>\n",
       "      <td>0</td>\n",
       "    </tr>\n",
       "    <tr>\n",
       "      <th>4</th>\n",
       "      <td>6483659</td>\n",
       "      <td>사이몬페그의 익살스런 연기가 돋보였던 영화!스파이더맨에서 늙어보이기만 했던 커스틴 ...</td>\n",
       "      <td>1</td>\n",
       "    </tr>\n",
       "  </tbody>\n",
       "</table>\n",
       "</div>"
      ],
      "text/plain": [
       "         id                                           document  label\n",
       "0   9976970                                아 더빙.. 진짜 짜증나네요 목소리      0\n",
       "1   3819312                  흠...포스터보고 초딩영화줄....오버연기조차 가볍지 않구나      1\n",
       "2  10265843                                  너무재밓었다그래서보는것을추천한다      0\n",
       "3   9045019                      교도소 이야기구먼 ..솔직히 재미는 없다..평점 조정      0\n",
       "4   6483659  사이몬페그의 익살스런 연기가 돋보였던 영화!스파이더맨에서 늙어보이기만 했던 커스틴 ...      1"
      ]
     },
     "execution_count": 1,
     "metadata": {},
     "output_type": "execute_result"
    }
   ],
   "source": [
    "import pandas as pd\n",
    "import urllib.request\n",
    "%matplotlib inline\n",
    "import matplotlib.pyplot as plt\n",
    "import re\n",
    "from konlpy.tag import Okt\n",
    "from tensorflow import keras\n",
    "from tensorflow.keras.preprocessing.text import Tokenizer\n",
    "import numpy as np\n",
    "from tensorflow.keras.preprocessing.sequence import pad_sequences\n",
    "from collections import Counter\n",
    "import os\n",
    "import gensim\n",
    "from gensim.models.keyedvectors import Word2VecKeyedVectors\n",
    "from tensorflow.keras.initializers import Constant\n",
    "from gensim.models import KeyedVectors\n",
    "from konlpy.tag import Mecab\n",
    "\n",
    "# 데이터를 읽어봅시다. \n",
    "train_data = pd.read_table('~/aiffel/sentiment_classification/data/ratings_train.txt')\n",
    "test_data = pd.read_table('~/aiffel/sentiment_classification/data/ratings_test.txt')\n",
    "\n",
    "train_data.head()"
   ]
  },
  {
   "cell_type": "markdown",
   "id": "d838d775",
   "metadata": {},
   "source": [
    "# 2. 데이터로더 구성\n",
    "\n",
    "- 데이터의 중복 제거\n",
    "- NaN 결측치 제거\n",
    "- 한국어 토크나이저로 토큰화\n",
    "- 불용어(Stopwords) 제거\n",
    "- 사전word_to_index 구성\n",
    "- 텍스트 스트링을 사전 인덱스 스트링으로 변환\n",
    "- X_train, y_train, X_test, y_test, word_to_index 리턴"
   ]
  },
  {
   "cell_type": "code",
   "execution_count": 2,
   "id": "823e6ed0",
   "metadata": {},
   "outputs": [],
   "source": [
    "tokenizer = Mecab()\n",
    "stopwords = ['의','가','이','은','들','는','좀','잘','걍','과','도','를','으로','자','에','와','한','하다']\n",
    "\n",
    "def load_data(train_data, test_data, num_words=10000):\n",
    "    train_data.drop_duplicates(subset=['document'], inplace=True) # 중복값 제거\n",
    "    train_data = train_data.dropna(how = 'any')  # NA값 제거\n",
    "    \n",
    "    test_data.drop_duplicates(subset=['document'], inplace=True) # 중복값 제거\n",
    "    test_data = test_data.dropna(how = 'any')  # NA값 제거 \n",
    "    \n",
    "    X_train = []\n",
    "    for sentence in train_data['document']:\n",
    "        temp_X = tokenizer.morphs(sentence) # 토큰화\n",
    "        temp_X = [word for word in temp_X if not word in stopwords] # 불용어 제거\n",
    "        X_train.append(temp_X)\n",
    "\n",
    "    X_test = []\n",
    "    for sentence in test_data['document']:\n",
    "        temp_X = tokenizer.morphs(sentence) # 토큰화\n",
    "        temp_X = [word for word in temp_X if not word in stopwords] # 불용어 제거\n",
    "        X_test.append(temp_X)\n",
    "    \n",
    "    words = np.concatenate(X_train).tolist()\n",
    "    counter = Counter(words)\n",
    "    counter = counter.most_common(10000-4)\n",
    "    vocab = ['<PAD>', '<BOS>', '<UNK>', '<UNUSED>'] + [key for key, _ in counter]\n",
    "    word_to_index = {word:index for index, word in enumerate(vocab)} # 딕셔너리에 {텍스트:인덱스} 구조로 저장\n",
    "    \n",
    "    \n",
    "    def wordlist_to_indexlist(wordlist):\n",
    "        return [word_to_index[word] if word in word_to_index else word_to_index['<PAD>'] for word in wordlist]\n",
    "        \n",
    "    X_train = list(map(wordlist_to_indexlist, X_train))\n",
    "    X_test = list(map(wordlist_to_indexlist, X_test))\n",
    "        \n",
    "    return X_train, np.array(list(train_data['label'])), X_test, np.array(list(test_data['label'])), word_to_index"
   ]
  },
  {
   "cell_type": "code",
   "execution_count": 4,
   "id": "3f2bb1e8",
   "metadata": {},
   "outputs": [
    {
     "name": "stdout",
     "output_type": "stream",
     "text": [
      "훈련 샘플 개수: 146182, 테스트 개수: 49157\n"
     ]
    }
   ],
   "source": [
    "X_train, y_train, X_test, y_test, word_to_index = load_data(train_data, test_data)\n",
    "print(\"훈련 샘플 개수: {}, 테스트 개수: {}\".format(len(X_train), len(X_test)))"
   ]
  },
  {
   "cell_type": "code",
   "execution_count": 5,
   "id": "8c4c6269",
   "metadata": {},
   "outputs": [],
   "source": [
    "index_to_word = {index:word for word, index in word_to_index.items()}"
   ]
  },
  {
   "cell_type": "code",
   "execution_count": 6,
   "id": "b6ca8c97",
   "metadata": {},
   "outputs": [],
   "source": [
    "# 문장 1개를 활용할 딕셔너리와 함께 주면, 단어 인덱스 리스트 벡터로 변환해 주는 함수입니다. \n",
    "# 단, 모든 문장은 <BOS>로 시작하는 것으로 합니다. \n",
    "def get_encoded_sentence(sentence, word_to_index):\n",
    "    return [word_to_index['<BOS>']]+[word_to_index[word] if word in word_to_index else word_to_index['<UNK>'] for word in sentence.split()]\n",
    "\n",
    "# 여러 개의 문장 리스트를 한꺼번에 단어 인덱스 리스트 벡터로 encode해 주는 함수입니다. \n",
    "def get_encoded_sentences(sentences, word_to_index):\n",
    "    return [get_encoded_sentence(sentence, word_to_index) for sentence in sentences]\n",
    "\n",
    "# 숫자 벡터로 encode된 문장을 원래대로 decode하는 함수입니다. \n",
    "def get_decoded_sentence(encoded_sentence, index_to_word):\n",
    "    return ' '.join(index_to_word[index] if index in index_to_word else '<UNK>' for index in encoded_sentence[1:])  #[1:]를 통해 <BOS>를 제외\n",
    "\n",
    "# 여러 개의 숫자 벡터로 encode된 문장을 한꺼번에 원래대로 decode하는 함수입니다. \n",
    "def get_decoded_sentences(encoded_sentences, index_to_word):\n",
    "    return [get_decoded_sentence(encoded_sentence, index_to_word) for encoded_sentence in encoded_sentences]"
   ]
  },
  {
   "cell_type": "markdown",
   "id": "b05bb102",
   "metadata": {},
   "source": [
    "# 3. 모델구성을 위한 데이터 분석 및 가공\n",
    "\n",
    "- 데이터셋 내 문장 길이 분포\n",
    "- 적절한 최대 문장 길이 지정\n",
    "- keras.preprocessing.sequence.pad_sequences 을 활용한 패딩 추가"
   ]
  },
  {
   "cell_type": "code",
   "execution_count": 7,
   "id": "a2167034",
   "metadata": {},
   "outputs": [
    {
     "name": "stdout",
     "output_type": "stream",
     "text": [
      "[32, 74, 919, 4, 4, 39, 228, 20, 33, 748]\n",
      "라벨:  0\n",
      "1번째 리뷰 문장 길이:  10\n",
      "2번째 리뷰 문장 길이:  17\n"
     ]
    }
   ],
   "source": [
    "print(X_train[0])  # 1번째 리뷰데이터\n",
    "print('라벨: ', y_train[0])  # 1번째 리뷰데이터의 라벨\n",
    "print('1번째 리뷰 문장 길이: ', len(X_train[0]))\n",
    "print('2번째 리뷰 문장 길이: ', len(X_train[1]))"
   ]
  },
  {
   "cell_type": "code",
   "execution_count": 8,
   "id": "08a9a255",
   "metadata": {},
   "outputs": [
    {
     "name": "stdout",
     "output_type": "stream",
     "text": [
      "문장길이 평균 :  15.96940191154864\n",
      "문장길이 최대 :  116\n",
      "문장길이 표준편차 :  12.843571191092\n",
      "pad_sequences maxlen :  41\n",
      "전체 문장의 0.9342988343341575%가 maxlen 설정값 이내에 포함됩니다. \n"
     ]
    }
   ],
   "source": [
    "total_data_text = list(X_train) + list(X_test)\n",
    "# 텍스트데이터 문장길이의 리스트를 생성한 후\n",
    "num_tokens = [len(tokens) for tokens in total_data_text]\n",
    "num_tokens = np.array(num_tokens)\n",
    "# 문장길이의 평균값, 최대값, 표준편차를 계산해 본다. \n",
    "print('문장길이 평균 : ', np.mean(num_tokens))\n",
    "print('문장길이 최대 : ', np.max(num_tokens))\n",
    "print('문장길이 표준편차 : ', np.std(num_tokens))\n",
    "\n",
    "# 예를들어, 최대 길이를 (평균 + 2*표준편차)로 한다면,  \n",
    "max_tokens = np.mean(num_tokens) + 2 * np.std(num_tokens)\n",
    "maxlen = int(max_tokens)\n",
    "print('pad_sequences maxlen : ', maxlen)\n",
    "print('전체 문장의 {}%가 maxlen 설정값 이내에 포함됩니다. '.format(np.sum(num_tokens < max_tokens) / len(num_tokens)))"
   ]
  },
  {
   "cell_type": "code",
   "execution_count": 9,
   "id": "6a4c50b4",
   "metadata": {},
   "outputs": [
    {
     "name": "stdout",
     "output_type": "stream",
     "text": [
      "(146182, 41)\n",
      "(49157, 41)\n"
     ]
    }
   ],
   "source": [
    "X_train = keras.preprocessing.sequence.pad_sequences(X_train,\n",
    "                                                        value=word_to_index[\"<PAD>\"],\n",
    "                                                        padding='post', # 혹은 'pre'\n",
    "                                                        maxlen=maxlen)\n",
    "\n",
    "X_test = keras.preprocessing.sequence.pad_sequences(X_test,\n",
    "                                                       value=word_to_index[\"<PAD>\"],\n",
    "                                                       padding='post', # 혹은 'pre'\n",
    "                                                       maxlen=maxlen)\n",
    "\n",
    "print(X_train.shape)\n",
    "print(X_test.shape)"
   ]
  },
  {
   "cell_type": "markdown",
   "id": "86750c2c",
   "metadata": {},
   "source": [
    "# 4. 모델구성 및 validation set 구성\n",
    "\n",
    "- 모델을 3가지 이상 다양하게 구성할 것"
   ]
  },
  {
   "cell_type": "code",
   "execution_count": 10,
   "id": "aac7841f",
   "metadata": {},
   "outputs": [],
   "source": [
    "vocab_size = 10000    # 어휘 사전의 크기입니다(10,000개의 단어)\n",
    "word_vector_dim = 32  # 워드 벡터의 차원 수 (변경 가능한 하이퍼파라미터)"
   ]
  },
  {
   "cell_type": "markdown",
   "id": "cc48fe6c",
   "metadata": {},
   "source": [
    "## 1.LSTM"
   ]
  },
  {
   "cell_type": "code",
   "execution_count": 11,
   "id": "06cf05eb",
   "metadata": {},
   "outputs": [
    {
     "name": "stdout",
     "output_type": "stream",
     "text": [
      "Model: \"sequential\"\n",
      "_________________________________________________________________\n",
      "Layer (type)                 Output Shape              Param #   \n",
      "=================================================================\n",
      "embedding (Embedding)        (None, None, 32)          320000    \n",
      "_________________________________________________________________\n",
      "lstm (LSTM)                  (None, 8)                 1312      \n",
      "_________________________________________________________________\n",
      "dense (Dense)                (None, 8)                 72        \n",
      "_________________________________________________________________\n",
      "dense_1 (Dense)              (None, 1)                 9         \n",
      "=================================================================\n",
      "Total params: 321,393\n",
      "Trainable params: 321,393\n",
      "Non-trainable params: 0\n",
      "_________________________________________________________________\n"
     ]
    }
   ],
   "source": [
    "model1 = keras.Sequential()\n",
    "model1.add(keras.layers.Embedding(vocab_size, word_vector_dim, input_shape=(None,)))\n",
    "model1.add(keras.layers.LSTM(8))   # 가장 널리 쓰이는 RNN인 LSTM 레이어를 사용하였습니다. 이때 LSTM state 벡터의 차원수는 8로 하였습니다. (변경 가능)\n",
    "model1.add(keras.layers.Dense(8, activation='relu'))\n",
    "model1.add(keras.layers.Dense(1, activation='sigmoid'))  # 최종 출력은 긍정/부정을 나타내는 1dim 입니다.\n",
    "\n",
    "\n",
    "model1.summary()"
   ]
  },
  {
   "cell_type": "markdown",
   "id": "4fafe020",
   "metadata": {},
   "source": [
    "## 2. GlobalMaxPooling1D()"
   ]
  },
  {
   "cell_type": "code",
   "execution_count": 12,
   "id": "8a95b206",
   "metadata": {},
   "outputs": [
    {
     "name": "stdout",
     "output_type": "stream",
     "text": [
      "Model: \"sequential_1\"\n",
      "_________________________________________________________________\n",
      "Layer (type)                 Output Shape              Param #   \n",
      "=================================================================\n",
      "embedding_1 (Embedding)      (None, None, 32)          320000    \n",
      "_________________________________________________________________\n",
      "global_max_pooling1d (Global (None, 32)                0         \n",
      "_________________________________________________________________\n",
      "dense_2 (Dense)              (None, 8)                 264       \n",
      "_________________________________________________________________\n",
      "dense_3 (Dense)              (None, 1)                 9         \n",
      "=================================================================\n",
      "Total params: 320,273\n",
      "Trainable params: 320,273\n",
      "Non-trainable params: 0\n",
      "_________________________________________________________________\n"
     ]
    }
   ],
   "source": [
    "model2 = keras.Sequential()\n",
    "model2.add(keras.layers.Embedding(vocab_size, word_vector_dim, input_shape=(None,)))\n",
    "model2.add(keras.layers.GlobalMaxPooling1D())\n",
    "model2.add(keras.layers.Dense(8, activation='relu'))\n",
    "model2.add(keras.layers.Dense(1, activation='sigmoid'))  # 최종 출력은 긍정/부정을 나타내는 1dim 입니다.\n",
    "\n",
    "model2.summary()"
   ]
  },
  {
   "cell_type": "markdown",
   "id": "1ec91300",
   "metadata": {},
   "source": [
    "## 3.Convolution Neural Network(1-D CNN)"
   ]
  },
  {
   "cell_type": "code",
   "execution_count": 13,
   "id": "3a3eb56e",
   "metadata": {},
   "outputs": [
    {
     "name": "stdout",
     "output_type": "stream",
     "text": [
      "Model: \"sequential_2\"\n",
      "_________________________________________________________________\n",
      "Layer (type)                 Output Shape              Param #   \n",
      "=================================================================\n",
      "embedding_2 (Embedding)      (None, None, 32)          320000    \n",
      "_________________________________________________________________\n",
      "conv1d (Conv1D)              (None, None, 16)          3600      \n",
      "_________________________________________________________________\n",
      "max_pooling1d (MaxPooling1D) (None, None, 16)          0         \n",
      "_________________________________________________________________\n",
      "conv1d_1 (Conv1D)            (None, None, 16)          1808      \n",
      "_________________________________________________________________\n",
      "global_max_pooling1d_1 (Glob (None, 16)                0         \n",
      "_________________________________________________________________\n",
      "dense_4 (Dense)              (None, 8)                 136       \n",
      "_________________________________________________________________\n",
      "dense_5 (Dense)              (None, 1)                 9         \n",
      "=================================================================\n",
      "Total params: 325,553\n",
      "Trainable params: 325,553\n",
      "Non-trainable params: 0\n",
      "_________________________________________________________________\n"
     ]
    }
   ],
   "source": [
    "model3 = keras.Sequential()\n",
    "model3.add(keras.layers.Embedding(vocab_size, word_vector_dim, input_shape=(None,)))\n",
    "model3.add(keras.layers.Conv1D(16, 7, activation='relu'))\n",
    "model3.add(keras.layers.MaxPooling1D(5))\n",
    "model3.add(keras.layers.Conv1D(16, 7, activation='relu'))\n",
    "model3.add(keras.layers.GlobalMaxPooling1D())\n",
    "model3.add(keras.layers.Dense(8, activation='relu'))\n",
    "model3.add(keras.layers.Dense(1, activation='sigmoid'))  # 최종 출력은 긍정/부정을 나타내는 1dim 입니다.\n",
    "\n",
    "model3.summary()"
   ]
  },
  {
   "cell_type": "code",
   "execution_count": 14,
   "id": "adbb275c",
   "metadata": {},
   "outputs": [
    {
     "name": "stdout",
     "output_type": "stream",
     "text": [
      "(116182, 41)\n",
      "(116182,)\n"
     ]
    }
   ],
   "source": [
    "# validation set 30000건 분리\n",
    "X_val = X_train[:30000]   \n",
    "y_val = y_train[:30000]\n",
    "\n",
    "# validation set을 제외한 나머지 116182건\n",
    "partial_X_train = X_train[30000:]  \n",
    "partial_y_train = y_train[30000:]\n",
    "\n",
    "print(partial_X_train.shape)\n",
    "print(partial_y_train.shape)"
   ]
  },
  {
   "cell_type": "markdown",
   "id": "010ef938",
   "metadata": {},
   "source": [
    "## 5. 모델 훈련 개시"
   ]
  },
  {
   "cell_type": "code",
   "execution_count": 15,
   "id": "cd18b111",
   "metadata": {
    "scrolled": true
   },
   "outputs": [
    {
     "name": "stdout",
     "output_type": "stream",
     "text": [
      "Epoch 1/20\n",
      "227/227 [==============================] - 21s 7ms/step - loss: 0.6237 - accuracy: 0.6257 - val_loss: 0.4614 - val_accuracy: 0.8211\n",
      "Epoch 2/20\n",
      "227/227 [==============================] - 1s 5ms/step - loss: 0.3880 - accuracy: 0.8401 - val_loss: 0.3653 - val_accuracy: 0.8465\n",
      "Epoch 3/20\n",
      "227/227 [==============================] - 1s 5ms/step - loss: 0.3294 - accuracy: 0.8635 - val_loss: 0.3508 - val_accuracy: 0.8509\n",
      "Epoch 4/20\n",
      "227/227 [==============================] - 1s 5ms/step - loss: 0.3087 - accuracy: 0.8715 - val_loss: 0.3512 - val_accuracy: 0.8499\n",
      "Epoch 5/20\n",
      "227/227 [==============================] - 1s 5ms/step - loss: 0.2961 - accuracy: 0.8770 - val_loss: 0.3565 - val_accuracy: 0.8486\n",
      "Epoch 6/20\n",
      "227/227 [==============================] - 1s 5ms/step - loss: 0.2848 - accuracy: 0.8818 - val_loss: 0.3654 - val_accuracy: 0.8471\n",
      "Epoch 7/20\n",
      "227/227 [==============================] - 1s 5ms/step - loss: 0.2721 - accuracy: 0.8875 - val_loss: 0.3720 - val_accuracy: 0.8455\n",
      "Epoch 8/20\n",
      "227/227 [==============================] - 1s 5ms/step - loss: 0.2623 - accuracy: 0.8905 - val_loss: 0.3762 - val_accuracy: 0.8457\n",
      "Epoch 9/20\n",
      "227/227 [==============================] - 1s 5ms/step - loss: 0.2498 - accuracy: 0.8951 - val_loss: 0.3863 - val_accuracy: 0.8447\n",
      "Epoch 10/20\n",
      "227/227 [==============================] - 1s 5ms/step - loss: 0.2400 - accuracy: 0.8992 - val_loss: 0.3860 - val_accuracy: 0.8441\n",
      "Epoch 11/20\n",
      "227/227 [==============================] - 1s 5ms/step - loss: 0.2299 - accuracy: 0.9027 - val_loss: 0.4163 - val_accuracy: 0.8432\n",
      "Epoch 12/20\n",
      "227/227 [==============================] - 1s 5ms/step - loss: 0.2215 - accuracy: 0.9068 - val_loss: 0.4049 - val_accuracy: 0.8395\n",
      "Epoch 13/20\n",
      "227/227 [==============================] - 1s 5ms/step - loss: 0.2117 - accuracy: 0.9113 - val_loss: 0.4207 - val_accuracy: 0.8442\n",
      "Epoch 14/20\n",
      "227/227 [==============================] - 1s 5ms/step - loss: 0.2038 - accuracy: 0.9144 - val_loss: 0.4332 - val_accuracy: 0.8424\n",
      "Epoch 15/20\n",
      "227/227 [==============================] - 1s 5ms/step - loss: 0.1960 - accuracy: 0.9172 - val_loss: 0.4454 - val_accuracy: 0.8432\n",
      "Epoch 16/20\n",
      "227/227 [==============================] - 1s 5ms/step - loss: 0.1872 - accuracy: 0.9215 - val_loss: 0.4563 - val_accuracy: 0.8388\n",
      "Epoch 17/20\n",
      "227/227 [==============================] - 1s 5ms/step - loss: 0.1811 - accuracy: 0.9245 - val_loss: 0.4722 - val_accuracy: 0.8421\n",
      "Epoch 18/20\n",
      "227/227 [==============================] - 1s 5ms/step - loss: 0.1741 - accuracy: 0.9273 - val_loss: 0.4880 - val_accuracy: 0.8408\n",
      "Epoch 19/20\n",
      "227/227 [==============================] - 1s 5ms/step - loss: 0.1720 - accuracy: 0.9286 - val_loss: 0.4777 - val_accuracy: 0.8354\n",
      "Epoch 20/20\n",
      "227/227 [==============================] - 1s 5ms/step - loss: 0.1670 - accuracy: 0.9308 - val_loss: 0.4994 - val_accuracy: 0.8391\n"
     ]
    }
   ],
   "source": [
    "model1.compile(optimizer='adam',\n",
    "              loss='binary_crossentropy',\n",
    "              metrics=['accuracy'])\n",
    "              \n",
    "epochs=20  # 몇 epoch를 훈련하면 좋을지 결과를 보면서 바꾸어 봅시다. \n",
    "\n",
    "history1 = model1.fit(partial_X_train,\n",
    "                    partial_y_train,\n",
    "                    epochs=epochs,\n",
    "                    batch_size=512,\n",
    "                    validation_data=(X_val, y_val),\n",
    "                    verbose=1)"
   ]
  },
  {
   "cell_type": "code",
   "execution_count": 16,
   "id": "9a87bf14",
   "metadata": {},
   "outputs": [
    {
     "name": "stdout",
     "output_type": "stream",
     "text": [
      "Epoch 1/20\n",
      "227/227 [==============================] - 1s 4ms/step - loss: 0.5549 - accuracy: 0.7778 - val_loss: 0.3894 - val_accuracy: 0.8322\n",
      "Epoch 2/20\n",
      "227/227 [==============================] - 1s 3ms/step - loss: 0.3533 - accuracy: 0.8477 - val_loss: 0.3485 - val_accuracy: 0.8471\n",
      "Epoch 3/20\n",
      "227/227 [==============================] - 1s 3ms/step - loss: 0.3071 - accuracy: 0.8715 - val_loss: 0.3432 - val_accuracy: 0.8510\n",
      "Epoch 4/20\n",
      "227/227 [==============================] - 1s 3ms/step - loss: 0.2775 - accuracy: 0.8860 - val_loss: 0.3465 - val_accuracy: 0.8527\n",
      "Epoch 5/20\n",
      "227/227 [==============================] - 1s 4ms/step - loss: 0.2536 - accuracy: 0.8983 - val_loss: 0.3564 - val_accuracy: 0.8524\n",
      "Epoch 6/20\n",
      "227/227 [==============================] - 1s 3ms/step - loss: 0.2323 - accuracy: 0.9081 - val_loss: 0.3665 - val_accuracy: 0.8504\n",
      "Epoch 7/20\n",
      "227/227 [==============================] - 1s 3ms/step - loss: 0.2132 - accuracy: 0.9172 - val_loss: 0.3820 - val_accuracy: 0.8486\n",
      "Epoch 8/20\n",
      "227/227 [==============================] - 1s 3ms/step - loss: 0.1953 - accuracy: 0.9261 - val_loss: 0.3988 - val_accuracy: 0.8450\n",
      "Epoch 9/20\n",
      "227/227 [==============================] - 1s 3ms/step - loss: 0.1789 - accuracy: 0.9343 - val_loss: 0.4188 - val_accuracy: 0.8413\n",
      "Epoch 10/20\n",
      "227/227 [==============================] - 1s 3ms/step - loss: 0.1633 - accuracy: 0.9415 - val_loss: 0.4375 - val_accuracy: 0.8410\n",
      "Epoch 11/20\n",
      "227/227 [==============================] - 1s 3ms/step - loss: 0.1486 - accuracy: 0.9479 - val_loss: 0.4634 - val_accuracy: 0.8378\n",
      "Epoch 12/20\n",
      "227/227 [==============================] - 1s 3ms/step - loss: 0.1354 - accuracy: 0.9536 - val_loss: 0.4861 - val_accuracy: 0.8355\n",
      "Epoch 13/20\n",
      "227/227 [==============================] - 1s 3ms/step - loss: 0.1236 - accuracy: 0.9587 - val_loss: 0.5131 - val_accuracy: 0.8335\n",
      "Epoch 14/20\n",
      "227/227 [==============================] - 1s 3ms/step - loss: 0.1129 - accuracy: 0.9633 - val_loss: 0.5346 - val_accuracy: 0.8318\n",
      "Epoch 15/20\n",
      "227/227 [==============================] - 1s 3ms/step - loss: 0.1031 - accuracy: 0.9664 - val_loss: 0.5645 - val_accuracy: 0.8281\n",
      "Epoch 16/20\n",
      "227/227 [==============================] - 1s 3ms/step - loss: 0.0944 - accuracy: 0.9704 - val_loss: 0.5869 - val_accuracy: 0.8277\n",
      "Epoch 17/20\n",
      "227/227 [==============================] - 1s 3ms/step - loss: 0.0865 - accuracy: 0.9731 - val_loss: 0.6160 - val_accuracy: 0.8253\n",
      "Epoch 18/20\n",
      "227/227 [==============================] - 1s 3ms/step - loss: 0.0796 - accuracy: 0.9761 - val_loss: 0.6410 - val_accuracy: 0.8245\n",
      "Epoch 19/20\n",
      "227/227 [==============================] - 1s 3ms/step - loss: 0.0731 - accuracy: 0.9779 - val_loss: 0.6699 - val_accuracy: 0.8224\n",
      "Epoch 20/20\n",
      "227/227 [==============================] - 1s 3ms/step - loss: 0.0676 - accuracy: 0.9797 - val_loss: 0.6940 - val_accuracy: 0.8212\n"
     ]
    }
   ],
   "source": [
    "model2.compile(optimizer='adam',\n",
    "              loss='binary_crossentropy',\n",
    "              metrics=['accuracy'])\n",
    "              \n",
    "epochs=20  # 몇 epoch를 훈련하면 좋을지 결과를 보면서 바꾸어 봅시다. \n",
    "\n",
    "history2 = model2.fit(partial_X_train,\n",
    "                    partial_y_train,\n",
    "                    epochs=epochs,\n",
    "                    batch_size=512,\n",
    "                    validation_data=(X_val, y_val),\n",
    "                    verbose=1)"
   ]
  },
  {
   "cell_type": "code",
   "execution_count": 17,
   "id": "d77b77d0",
   "metadata": {
    "scrolled": false
   },
   "outputs": [
    {
     "name": "stdout",
     "output_type": "stream",
     "text": [
      "Epoch 1/20\n",
      "227/227 [==============================] - 13s 7ms/step - loss: 0.4916 - accuracy: 0.7561 - val_loss: 0.3574 - val_accuracy: 0.8434\n",
      "Epoch 2/20\n",
      "227/227 [==============================] - 1s 4ms/step - loss: 0.3291 - accuracy: 0.8601 - val_loss: 0.3445 - val_accuracy: 0.8493\n",
      "Epoch 3/20\n",
      "227/227 [==============================] - 1s 4ms/step - loss: 0.2960 - accuracy: 0.8770 - val_loss: 0.3394 - val_accuracy: 0.8528\n",
      "Epoch 4/20\n",
      "227/227 [==============================] - 1s 5ms/step - loss: 0.2681 - accuracy: 0.8920 - val_loss: 0.3476 - val_accuracy: 0.8488\n",
      "Epoch 5/20\n",
      "227/227 [==============================] - 1s 4ms/step - loss: 0.2370 - accuracy: 0.9075 - val_loss: 0.3544 - val_accuracy: 0.8492\n",
      "Epoch 6/20\n",
      "227/227 [==============================] - 1s 5ms/step - loss: 0.1993 - accuracy: 0.9256 - val_loss: 0.3816 - val_accuracy: 0.8478\n",
      "Epoch 7/20\n",
      "227/227 [==============================] - 1s 5ms/step - loss: 0.1595 - accuracy: 0.9437 - val_loss: 0.4191 - val_accuracy: 0.8414\n",
      "Epoch 8/20\n",
      "227/227 [==============================] - 1s 4ms/step - loss: 0.1235 - accuracy: 0.9586 - val_loss: 0.4661 - val_accuracy: 0.8385\n",
      "Epoch 9/20\n",
      "227/227 [==============================] - 1s 4ms/step - loss: 0.0964 - accuracy: 0.9686 - val_loss: 0.5281 - val_accuracy: 0.8367\n",
      "Epoch 10/20\n",
      "227/227 [==============================] - 1s 4ms/step - loss: 0.0761 - accuracy: 0.9765 - val_loss: 0.5627 - val_accuracy: 0.8332\n",
      "Epoch 11/20\n",
      "227/227 [==============================] - 1s 5ms/step - loss: 0.0615 - accuracy: 0.9819 - val_loss: 0.6285 - val_accuracy: 0.8339\n",
      "Epoch 12/20\n",
      "227/227 [==============================] - 1s 4ms/step - loss: 0.0506 - accuracy: 0.9850 - val_loss: 0.6667 - val_accuracy: 0.8316\n",
      "Epoch 13/20\n",
      "227/227 [==============================] - 1s 5ms/step - loss: 0.0430 - accuracy: 0.9878 - val_loss: 0.7389 - val_accuracy: 0.8313\n",
      "Epoch 14/20\n",
      "227/227 [==============================] - 1s 4ms/step - loss: 0.0364 - accuracy: 0.9896 - val_loss: 0.7852 - val_accuracy: 0.8287\n",
      "Epoch 15/20\n",
      "227/227 [==============================] - 1s 4ms/step - loss: 0.0318 - accuracy: 0.9913 - val_loss: 0.8259 - val_accuracy: 0.8267\n",
      "Epoch 16/20\n",
      "227/227 [==============================] - 1s 5ms/step - loss: 0.0290 - accuracy: 0.9917 - val_loss: 0.8738 - val_accuracy: 0.8245\n",
      "Epoch 17/20\n",
      "227/227 [==============================] - 1s 4ms/step - loss: 0.0270 - accuracy: 0.9923 - val_loss: 0.9390 - val_accuracy: 0.8233\n",
      "Epoch 18/20\n",
      "227/227 [==============================] - 1s 4ms/step - loss: 0.0259 - accuracy: 0.9924 - val_loss: 0.9959 - val_accuracy: 0.8240\n",
      "Epoch 19/20\n",
      "227/227 [==============================] - 1s 4ms/step - loss: 0.0267 - accuracy: 0.9919 - val_loss: 0.9702 - val_accuracy: 0.8249\n",
      "Epoch 20/20\n",
      "227/227 [==============================] - 1s 5ms/step - loss: 0.0282 - accuracy: 0.9908 - val_loss: 1.0269 - val_accuracy: 0.8240\n"
     ]
    }
   ],
   "source": [
    "model3.compile(optimizer='adam',\n",
    "              loss='binary_crossentropy',\n",
    "              metrics=['accuracy'])\n",
    "              \n",
    "epochs=20  # 몇 epoch를 훈련하면 좋을지 결과를 보면서 바꾸어 봅시다. \n",
    "\n",
    "history3 = model3.fit(partial_X_train,\n",
    "                    partial_y_train,\n",
    "                    epochs=epochs,\n",
    "                    batch_size=512,\n",
    "                    validation_data=(X_val, y_val),\n",
    "                    verbose=1)"
   ]
  },
  {
   "cell_type": "code",
   "execution_count": 18,
   "id": "3a11f3ad",
   "metadata": {},
   "outputs": [
    {
     "name": "stdout",
     "output_type": "stream",
     "text": [
      "1537/1537 - 3s - loss: 0.5061 - accuracy: 0.8372\n",
      "1537/1537 - 2s - loss: 0.6974 - accuracy: 0.8212\n",
      "1537/1537 - 2s - loss: 1.0599 - accuracy: 0.8170\n"
     ]
    }
   ],
   "source": [
    "results1 = model1.evaluate(X_test,  y_test, verbose=2)\n",
    "results2 = model2.evaluate(X_test,  y_test, verbose=2)\n",
    "results3 = model3.evaluate(X_test,  y_test, verbose=2)\n"
   ]
  },
  {
   "cell_type": "markdown",
   "id": "944ea85c",
   "metadata": {},
   "source": [
    "## 6. Loss,Accuracy 그래프 시각화"
   ]
  },
  {
   "cell_type": "code",
   "execution_count": 19,
   "id": "57134705",
   "metadata": {},
   "outputs": [],
   "source": [
    "history1_dict = history1.history\n",
    "history2_dict = history2.history\n",
    "history3_dict = history3.history"
   ]
  },
  {
   "cell_type": "code",
   "execution_count": 46,
   "id": "3197834d",
   "metadata": {},
   "outputs": [
    {
     "data": {
      "image/png": "[encoded data removed]",
      "text/plain": [
       "<Figure size 432x288 with 1 Axes>"
      ]
     },
     "metadata": {
      "needs_background": "light"
     },
     "output_type": "display_data"
    },
    {
     "data": {
      "image/png": "[encoded data removed]",
      "text/plain": [
       "<Figure size 432x288 with 1 Axes>"
      ]
     },
     "metadata": {
      "needs_background": "light"
     },
     "output_type": "display_data"
    }
   ],
   "source": [
    "import matplotlib.pyplot as plt\n",
    "\n",
    "acc = history1_dict['accuracy']\n",
    "val_acc = history1_dict['val_accuracy']\n",
    "loss = history1_dict['loss']\n",
    "val_loss = history1_dict['val_loss']\n",
    "\n",
    "epochs = range(1, len(acc) + 1)\n",
    "\n",
    "plt.plot(epochs, loss, 'b', label='Training loss')\n",
    "plt.plot(epochs, val_loss, 'r', label='Validation loss')\n",
    "plt.title('Training and validation loss')\n",
    "plt.xlabel('Epochs')\n",
    "plt.ylabel('Loss')\n",
    "plt.legend()\n",
    "\n",
    "plt.show()\n",
    "\n",
    "plt.plot(epochs, acc, 'r', label='Training acc')\n",
    "plt.plot(epochs, val_acc, 'b', label='Validation acc')\n",
    "plt.title('Training and validation accuracy')\n",
    "plt.xlabel('Epochs')\n",
    "plt.ylabel('Accuracy')\n",
    "plt.legend()\n",
    "\n",
    "plt.show()"
   ]
  },
  {
   "cell_type": "code",
   "execution_count": 47,
   "id": "0c8483ec",
   "metadata": {},
   "outputs": [
    {
     "data": {
      "image/png": "[encoded data removed]",
      "text/plain": [
       "<Figure size 432x288 with 1 Axes>"
      ]
     },
     "metadata": {
      "needs_background": "light"
     },
     "output_type": "display_data"
    },
    {
     "data": {
      "image/png": "[encoded data removed]",
      "text/plain": [
       "<Figure size 432x288 with 1 Axes>"
      ]
     },
     "metadata": {
      "needs_background": "light"
     },
     "output_type": "display_data"
    }
   ],
   "source": [
    "import matplotlib.pyplot as plt\n",
    "\n",
    "acc = history2_dict['accuracy']\n",
    "val_acc = history2_dict['val_accuracy']\n",
    "loss = history2_dict['loss']\n",
    "val_loss = history2_dict['val_loss']\n",
    "\n",
    "epochs = range(1, len(acc) + 1)\n",
    "\n",
    "plt.plot(epochs, loss, 'b', label='Training loss')\n",
    "plt.plot(epochs, val_loss, 'r', label='Validation loss')\n",
    "plt.title('Training and validation loss')\n",
    "plt.xlabel('Epochs')\n",
    "plt.ylabel('Loss')\n",
    "plt.legend()\n",
    "\n",
    "plt.show()\n",
    "\n",
    "plt.plot(epochs, acc, 'r', label='Training acc')\n",
    "plt.plot(epochs, val_acc, 'b', label='Validation acc')\n",
    "plt.title('Training and validation accuracy')\n",
    "plt.xlabel('Epochs')\n",
    "plt.ylabel('Accuracy')\n",
    "plt.legend()\n",
    "\n",
    "plt.show()"
   ]
  },
  {
   "cell_type": "code",
   "execution_count": 48,
   "id": "e3cbffc3",
   "metadata": {},
   "outputs": [
    {
     "data": {
      "image/png": "[encoded data removed]",
      "text/plain": [
       "<Figure size 432x288 with 1 Axes>"
      ]
     },
     "metadata": {
      "needs_background": "light"
     },
     "output_type": "display_data"
    },
    {
     "data": {
      "image/png": "[encoded data removed]",
      "text/plain": [
       "<Figure size 432x288 with 1 Axes>"
      ]
     },
     "metadata": {
      "needs_background": "light"
     },
     "output_type": "display_data"
    }
   ],
   "source": [
    "import matplotlib.pyplot as plt\n",
    "\n",
    "acc = history3_dict['accuracy']\n",
    "val_acc = history3_dict['val_accuracy']\n",
    "loss = history3_dict['loss']\n",
    "val_loss = history3_dict['val_loss']\n",
    "\n",
    "epochs = range(1, len(acc) + 1)\n",
    "\n",
    "plt.plot(epochs, loss, 'b', label='Training loss')\n",
    "plt.plot(epochs, val_loss, 'r', label='Validation loss')\n",
    "plt.title('Training and validation loss')\n",
    "plt.xlabel('Epochs')\n",
    "plt.ylabel('Loss')\n",
    "plt.legend()\n",
    "\n",
    "plt.show()\n",
    "\n",
    "plt.plot(epochs, acc, 'r', label='Training acc')\n",
    "plt.plot(epochs, val_acc, 'b', label='Validation acc')\n",
    "plt.title('Training and validation accuracy')\n",
    "plt.xlabel('Epochs')\n",
    "plt.ylabel('Accuracy')\n",
    "plt.legend()\n",
    "\n",
    "plt.show()"
   ]
  },
  {
   "cell_type": "markdown",
   "id": "8531e9e1",
   "metadata": {},
   "source": [
    "## 7. 학습된 Embedding 레이어 분석"
   ]
  },
  {
   "cell_type": "code",
   "execution_count": 23,
   "id": "088f2bd3",
   "metadata": {},
   "outputs": [
    {
     "name": "stdout",
     "output_type": "stream",
     "text": [
      "(10000, 32)\n"
     ]
    }
   ],
   "source": [
    "embedding_layer = model1.layers[0]\n",
    "weights = embedding_layer.get_weights()[0]\n",
    "print(weights.shape)    # shape: (vocab_size, embedding_dim)"
   ]
  },
  {
   "cell_type": "code",
   "execution_count": 24,
   "id": "dcd8ed28",
   "metadata": {},
   "outputs": [],
   "source": [
    "# 학습한 Embedding 파라미터를 파일에 써서 저장합니다. \n",
    "word2vec_file_path = os.getenv('HOME')+'/aiffel/sentiment_classification/data/word2vec.txt'\n",
    "f = open(word2vec_file_path, 'w')\n",
    "f.write('{} {}\\n'.format(vocab_size-4, word_vector_dim))  # 몇개의 벡터를 얼마 사이즈로 기재할지 타이틀을 씁니다.\n",
    "\n",
    "# 단어 개수(에서 특수문자 4개는 제외하고)만큼의 워드 벡터를 파일에 기록합니다. \n",
    "vectors = model1.get_weights()[0]\n",
    "for i in range(4,vocab_size):\n",
    "    f.write('{} {}\\n'.format(index_to_word[i], ' '.join(map(str, list(vectors[i, :])))))\n",
    "f.close()"
   ]
  },
  {
   "cell_type": "code",
   "execution_count": 25,
   "id": "22c16834",
   "metadata": {},
   "outputs": [
    {
     "data": {
      "text/plain": [
       "array([-0.13323578,  0.01504288,  0.10560352, -0.157645  , -0.12246255,\n",
       "        0.1366448 ,  0.16019493, -0.06854194,  0.00827689, -0.06568895,\n",
       "        0.07891641, -0.12074707, -0.00926329,  0.15738457,  0.09559022,\n",
       "       -0.07864477, -0.03856812,  0.06679559, -0.16297099,  0.18849999,\n",
       "       -0.02935623, -0.03209349, -0.0885696 ,  0.09842441, -0.17806444,\n",
       "       -0.12721245,  0.15511054, -0.00454989, -0.15177232,  0.0073503 ,\n",
       "        0.22091779,  0.22459702], dtype=float32)"
      ]
     },
     "execution_count": 25,
     "metadata": {},
     "output_type": "execute_result"
    }
   ],
   "source": [
    "from gensim.models.keyedvectors import Word2VecKeyedVectors\n",
    "\n",
    "word_vectors = Word2VecKeyedVectors.load_word2vec_format(word2vec_file_path, binary=False)\n",
    "vector = word_vectors['만족']\n",
    "vector"
   ]
  },
  {
   "cell_type": "code",
   "execution_count": 26,
   "id": "ed1eded4",
   "metadata": {
    "scrolled": true
   },
   "outputs": [
    {
     "data": {
      "text/plain": [
       "[('맷데이먼', 0.9352104663848877),\n",
       " ('지닌', 0.9320454001426697),\n",
       " ('불러일으키', 0.9248889684677124),\n",
       " ('사악', 0.9241040945053101),\n",
       " ('서부터', 0.9240542054176331),\n",
       " ('백제', 0.9219959378242493),\n",
       " ('꽉', 0.9181508421897888),\n",
       " ('~~!!!', 0.9166092276573181),\n",
       " ('장식', 0.9161637425422668),\n",
       " ('시끄러워서', 0.9115396738052368)]"
      ]
     },
     "execution_count": 26,
     "metadata": {},
     "output_type": "execute_result"
    }
   ],
   "source": [
    "word_vectors.similar_by_word(\"어벤져스\")"
   ]
  },
  {
   "cell_type": "markdown",
   "id": "828d7829",
   "metadata": {},
   "source": [
    "## 8. 한국어 Word2Vec 임베딩 활용하여 성능개선"
   ]
  },
  {
   "cell_type": "code",
   "execution_count": 27,
   "id": "7f7a3a2c",
   "metadata": {},
   "outputs": [],
   "source": [
    "from gensim.models import Word2Vec"
   ]
  },
  {
   "cell_type": "code",
   "execution_count": 28,
   "id": "4a46fcc9",
   "metadata": {},
   "outputs": [],
   "source": [
    "word2vec_path = os.getenv('HOME')+'/aiffel/sentiment_classification/data/ko.bin'"
   ]
  },
  {
   "cell_type": "code",
   "execution_count": 29,
   "id": "0df464e5",
   "metadata": {},
   "outputs": [],
   "source": [
    "word2vec = Word2Vec.load(word2vec_path)"
   ]
  },
  {
   "cell_type": "code",
   "execution_count": 30,
   "id": "a9b4766f",
   "metadata": {},
   "outputs": [
    {
     "name": "stderr",
     "output_type": "stream",
     "text": [
      "/tmp/ipykernel_530/3818210802.py:1: DeprecationWarning: Call to deprecated `__getitem__` (Method will be removed in 4.0.0, use self.wv.__getitem__() instead).\n",
      "  vector = word2vec['사랑']\n"
     ]
    },
    {
     "data": {
      "text/plain": [
       "array([-1.3740246 , -1.7353463 ,  3.3915305 , -2.569253  , -1.4016607 ,\n",
       "        1.4556127 ,  0.9414557 ,  1.9207907 ,  0.16471806,  0.4838317 ,\n",
       "       -0.8547181 ,  2.0879807 ,  0.86741775,  0.87539405, -0.09962013,\n",
       "        0.22928311, -1.1858722 ,  0.00858838,  1.4999928 , -0.16196461,\n",
       "       -0.35184434, -0.92390764,  1.0849575 ,  0.3025011 ,  2.7021565 ,\n",
       "       -1.0263684 ,  0.32864776, -0.76589465, -2.510981  , -0.66225356,\n",
       "        2.8434615 ,  0.50130975, -1.021874  , -1.4366034 ,  1.1110784 ,\n",
       "        0.5812605 , -0.5830406 , -0.5785423 ,  1.3634988 ,  2.3074338 ,\n",
       "       -1.4314893 ,  0.45745876,  1.1073523 , -3.2135262 , -0.2898375 ,\n",
       "       -1.1622221 ,  1.2369208 , -0.7622987 , -0.37757635,  1.1376442 ,\n",
       "        0.01065568, -0.69105595,  1.5159112 ,  1.1534518 , -1.0119992 ,\n",
       "       -0.5757404 ,  1.1349088 , -1.1289831 ,  0.13004152,  2.0451715 ,\n",
       "       -0.23940353,  1.3604902 ,  0.72700524,  0.32545742,  1.0612459 ,\n",
       "        0.42252553,  1.1442151 ,  2.8774905 ,  2.4377263 , -1.340305  ,\n",
       "        0.12629706, -0.07772489, -0.59053177, -0.19007324,  0.1396541 ,\n",
       "       -1.8655105 ,  0.9401054 ,  0.5150856 ,  0.7795373 , -0.86505556,\n",
       "        0.11842118, -1.8303713 ,  1.337177  , -1.0102932 , -0.37180334,\n",
       "        0.00893255, -0.49141577, -1.05802   , -2.5987291 ,  0.9731856 ,\n",
       "        0.34080654, -2.5973568 ,  1.0046519 , -1.3914212 , -0.6504351 ,\n",
       "       -0.9010805 , -1.1341541 ,  0.75565654,  1.2941337 ,  0.0880572 ,\n",
       "       -1.0341461 , -0.1750075 , -0.01880708, -1.0835075 , -2.0333962 ,\n",
       "        1.1372623 ,  1.0626172 , -1.8369784 , -2.2662086 , -3.382057  ,\n",
       "        1.6751666 , -0.2988223 , -0.25563756, -1.5594274 ,  0.6313433 ,\n",
       "       -1.2667153 , -1.6857744 , -1.0949599 ,  0.7742313 , -0.6095523 ,\n",
       "        3.19503   ,  0.13200459,  1.7937473 , -2.8782516 ,  1.3821276 ,\n",
       "        2.2895143 ,  0.0741943 , -0.41046414,  1.438796  ,  0.19373988,\n",
       "        1.4294034 ,  1.5025262 ,  1.4849502 ,  1.5754777 ,  2.7793512 ,\n",
       "       -0.6885003 , -0.30154693, -1.708323  ,  1.1030879 , -2.2597387 ,\n",
       "        1.1909146 ,  2.4399316 ,  0.3990314 ,  0.904154  ,  0.5454401 ,\n",
       "       -1.3235748 , -0.64812386,  0.22390233,  0.9657619 , -0.47360668,\n",
       "       -0.10278235, -1.0679734 , -0.91414386,  0.92069   ,  0.3549338 ,\n",
       "        0.32858834,  0.84870636,  3.596926  , -1.6651102 ,  0.23658653,\n",
       "        1.0515738 ,  0.40531915, -0.773514  , -0.93460965, -0.3946274 ,\n",
       "       -1.5657727 ,  1.183652  ,  2.5277    ,  0.57700926,  1.7051374 ,\n",
       "       -1.8249958 , -2.0328498 ,  0.6617798 ,  0.85747904,  0.31782728,\n",
       "       -1.1660796 ,  0.32923874,  2.2055087 , -0.12782003,  2.0455444 ,\n",
       "       -0.1724252 ,  0.46001154,  1.559042  , -1.6152996 , -0.84242785,\n",
       "        0.7553168 ,  0.39734274,  0.07714175,  0.05610155,  0.32837135,\n",
       "        1.0220716 ,  1.3816743 ,  0.8049544 ,  0.28728685, -0.97610044,\n",
       "        0.8861181 , -0.01250968, -1.4845604 , -1.5236791 , -1.5451258 ],\n",
       "      dtype=float32)"
      ]
     },
     "execution_count": 30,
     "metadata": {},
     "output_type": "execute_result"
    }
   ],
   "source": [
    "vector = word2vec['사랑']\n",
    "vector"
   ]
  },
  {
   "cell_type": "code",
   "execution_count": 33,
   "id": "8c17389f",
   "metadata": {},
   "outputs": [
    {
     "name": "stderr",
     "output_type": "stream",
     "text": [
      "/tmp/ipykernel_530/1730871920.py:7: DeprecationWarning: Call to deprecated `__contains__` (Method will be removed in 4.0.0, use self.wv.__contains__() instead).\n",
      "  if index_to_word[i] in word2vec:\n",
      "/tmp/ipykernel_530/1730871920.py:8: DeprecationWarning: Call to deprecated `__getitem__` (Method will be removed in 4.0.0, use self.wv.__getitem__() instead).\n",
      "  embedding_matrix[i] = word2vec[index_to_word[i]]\n"
     ]
    }
   ],
   "source": [
    "vocab_size = 10000    # 어휘 사전의 크기입니다(10,000개의 단어)\n",
    "word_vector_dim = 200  # 워드 벡터의 차원수\n",
    "embedding_matrix = np.random.rand(vocab_size, word_vector_dim)\n",
    "\n",
    "# embedding_matrix에 Word2Vec 워드 벡터를 단어 하나씩마다 차례차례 카피한다.\n",
    "for i in range(4,vocab_size):\n",
    "    if index_to_word[i] in word2vec:\n",
    "        embedding_matrix[i] = word2vec[index_to_word[i]]"
   ]
  },
  {
   "cell_type": "code",
   "execution_count": 55,
   "id": "5a18753d",
   "metadata": {},
   "outputs": [
    {
     "name": "stdout",
     "output_type": "stream",
     "text": [
      "Model: \"sequential_4\"\n",
      "_________________________________________________________________\n",
      "Layer (type)                 Output Shape              Param #   \n",
      "=================================================================\n",
      "embedding_4 (Embedding)      (None, 41, 200)           2000000   \n",
      "_________________________________________________________________\n",
      "lstm_2 (LSTM)                (None, 512)               1460224   \n",
      "_________________________________________________________________\n",
      "dense_8 (Dense)              (None, 8)                 4104      \n",
      "_________________________________________________________________\n",
      "dense_9 (Dense)              (None, 1)                 9         \n",
      "=================================================================\n",
      "Total params: 3,464,337\n",
      "Trainable params: 3,464,337\n",
      "Non-trainable params: 0\n",
      "_________________________________________________________________\n"
     ]
    }
   ],
   "source": [
    "# 모델 구성\n",
    "model4 = keras.Sequential()\n",
    "model4.add(keras.layers.Embedding(vocab_size, \n",
    "                                 word_vector_dim, \n",
    "                                 embeddings_initializer=Constant(embedding_matrix),  # 카피한 임베딩을 여기서 활용\n",
    "                                 input_length=maxlen,\n",
    "                                 trainable=True))   # trainable을 True로 주면 Fine-tuning\n",
    "model4.add(keras.layers.LSTM(512))\n",
    "model4.add(keras.layers.Dense(8, activation='relu'))\n",
    "model4.add(keras.layers.Dense(1, activation='sigmoid'))  # 최종 출력은 긍정/부정을 나타내는 1dim 입니다.\n",
    "\n",
    "model4.summary()"
   ]
  },
  {
   "cell_type": "code",
   "execution_count": 56,
   "id": "9d2bec0c",
   "metadata": {},
   "outputs": [
    {
     "name": "stdout",
     "output_type": "stream",
     "text": [
      "Epoch 1/10\n",
      "286/286 [==============================] - 21s 67ms/step - loss: 0.6792 - accuracy: 0.5331 - val_loss: 0.5379 - val_accuracy: 0.7321\n",
      "Epoch 2/10\n",
      "286/286 [==============================] - 20s 69ms/step - loss: 0.3914 - accuracy: 0.8228 - val_loss: 0.2958 - val_accuracy: 0.8772\n",
      "Epoch 3/10\n",
      "286/286 [==============================] - 20s 69ms/step - loss: 0.2928 - accuracy: 0.8762 - val_loss: 0.2455 - val_accuracy: 0.9007\n",
      "Epoch 4/10\n",
      "286/286 [==============================] - 20s 69ms/step - loss: 0.2522 - accuracy: 0.8960 - val_loss: 0.2107 - val_accuracy: 0.9188\n",
      "Epoch 5/10\n",
      "286/286 [==============================] - 20s 70ms/step - loss: 0.2157 - accuracy: 0.9135 - val_loss: 0.1679 - val_accuracy: 0.9394\n",
      "Epoch 6/10\n",
      "286/286 [==============================] - 20s 70ms/step - loss: 0.1759 - accuracy: 0.9315 - val_loss: 0.1370 - val_accuracy: 0.9559\n",
      "Epoch 7/10\n",
      "286/286 [==============================] - 20s 69ms/step - loss: 0.1394 - accuracy: 0.9484 - val_loss: 0.1000 - val_accuracy: 0.9680\n",
      "Epoch 8/10\n",
      "286/286 [==============================] - 20s 69ms/step - loss: 0.1067 - accuracy: 0.9623 - val_loss: 0.0827 - val_accuracy: 0.9742\n",
      "Epoch 9/10\n",
      "286/286 [==============================] - 20s 69ms/step - loss: 0.0845 - accuracy: 0.9704 - val_loss: 0.0556 - val_accuracy: 0.9823\n",
      "Epoch 10/10\n",
      "286/286 [==============================] - 20s 69ms/step - loss: 0.0690 - accuracy: 0.9764 - val_loss: 0.0507 - val_accuracy: 0.9837\n"
     ]
    }
   ],
   "source": [
    "model4.compile(optimizer='adam',\n",
    "              loss='binary_crossentropy',\n",
    "              metrics=['accuracy'])\n",
    "              \n",
    "epochs=10  # 몇 epoch를 훈련하면 좋을지 결과를 보면서 바꾸어 봅시다. \n",
    "\n",
    "history4 = model4.fit(X_train,\n",
    "                    y_train,\n",
    "                    epochs=epochs,\n",
    "                    batch_size=512,\n",
    "                    validation_data=(X_val, y_val),\n",
    "                    verbose=1)"
   ]
  },
  {
   "cell_type": "code",
   "execution_count": 57,
   "id": "f163d2c5",
   "metadata": {},
   "outputs": [
    {
     "name": "stdout",
     "output_type": "stream",
     "text": [
      "1537/1537 - 5s - loss: 0.5107 - accuracy: 0.8623\n"
     ]
    }
   ],
   "source": [
    "results4 = model4.evaluate(X_test,  y_test, verbose=2)"
   ]
  },
  {
   "cell_type": "code",
   "execution_count": 58,
   "id": "2cd360d1",
   "metadata": {},
   "outputs": [
    {
     "name": "stdout",
     "output_type": "stream",
     "text": [
      "dict_keys(['loss', 'accuracy', 'val_loss', 'val_accuracy'])\n"
     ]
    }
   ],
   "source": [
    "history4_dict = history4.history\n",
    "print(history4_dict.keys()) # epoch에 따른 그래프를 그려볼 수 있는 항목들"
   ]
  },
  {
   "cell_type": "code",
   "execution_count": 59,
   "id": "4ff4e5cd",
   "metadata": {},
   "outputs": [
    {
     "data": {
      "image/png": "[encoded data removed]",
      "text/plain": [
       "<Figure size 432x288 with 1 Axes>"
      ]
     },
     "metadata": {
      "needs_background": "light"
     },
     "output_type": "display_data"
    },
    {
     "data": {
      "image/png": "[encoded data removed]",
      "text/plain": [
       "<Figure size 432x288 with 1 Axes>"
      ]
     },
     "metadata": {
      "needs_background": "light"
     },
     "output_type": "display_data"
    }
   ],
   "source": [
    "acc = history4_dict['accuracy']\n",
    "val_acc = history4_dict['val_accuracy']\n",
    "loss = history4_dict['loss']\n",
    "val_loss = history4_dict['val_loss']\n",
    "\n",
    "epochs = range(1, len(acc) + 1)\n",
    "\n",
    "plt.plot(epochs, loss, 'b', label='Training loss')\n",
    "plt.plot(epochs, val_loss, 'r', label='Validation loss')\n",
    "plt.title('Training and validation loss')\n",
    "plt.xlabel('Epochs')\n",
    "plt.ylabel('Loss')\n",
    "plt.legend()\n",
    "\n",
    "plt.show()\n",
    "\n",
    "plt.plot(epochs, acc, 'r', label='Training acc')\n",
    "plt.plot(epochs, val_acc, 'b', label='Validation acc')\n",
    "plt.title('Training and validation accuracy')\n",
    "plt.xlabel('Epochs')\n",
    "plt.ylabel('Accuracy')\n",
    "plt.legend()\n",
    "\n",
    "plt.show()"
   ]
  },
  {
   "cell_type": "markdown",
   "id": "d13f1368",
   "metadata": {},
   "source": [
    "# 회고"
   ]
  },
  {
   "cell_type": "markdown",
   "id": "3a091282",
   "metadata": {},
   "source": [
    "어려웠던 점 \n",
    "- nlp답게 전처리도 복잡했는데 내용이 헷갈려서 계속 노드를 돌려봤던 것 같다.\n",
    "- 편의성을 위해 모델을 설계할때 모델이름을 지정했는데 이름 지정중에 공백이 들어가니 오류가 떴다.\n",
    "- 코딩스킬적인 부분에서 순서에 맞춰 노드에 있는 코드들을 복사하다 보니 코드를 분석하고 이해하는데 어려움이 있었다.\n",
    "\n",
    "해결방법\n",
    "- 시간은 오래걸렸지만 원래 노드와 전 수강생분의 코드를 보면서 공부했다.\n",
    "- 구글링을 통해 모델명을 지정할 때 공백이 들어가서 오류가 났음을 알게 되었지만 이 오류를 잡는데 생각보다 너무 많은 시간이 걸렸다.\n",
    "- 마찬가지로 노드 코드와 참고 코드를 번갈아가며 이해하도록 노력했다.\n",
    "\n",
    "루브릭\n",
    "1. 다양한 방법으로 text classification 테크스를 성공적으로 구현하였다.  \n",
    "=> 성공적인지는 모르겠으나 일단...노드에서 배운 3가지 모델을 사용하였다.  \n",
    "\n",
    "2. gensim을 활용하여 자체학습된 혹은 사전학습된 임베딩 레이어를 분석하였다.  \n",
    "=> 원래 노드의 틀대로 따라가서 어느 정도는 해결한 것 같다.\n",
    "\n",
    "3. 한국어 Word2Vec을 활용하여 가시적인 성능향상을 달성했다.  \n",
    "=> 인천캠분들의 도움으로 달성하긴 했다...다만 그래프가 제 생각보다 너무 이상적으로(?)나와서 무언가 잘못된 것 같기도 하다는 느낌이 들었는데 딱히 오류를 찾지는 못했다. \n",
    "\n",
    "느낀점 : 사실 처음에는 노드의 순서를 통해 따라가는 것에 급급해서 이해하는 부분이 부족했는데 다른 조원분들께서 부분부분 어떤 역할을 수행하는지 설명을 해줘서 조금은 이해도도 높이면서 진행한 것 같아서 다른 노드들 보다 뿌듯한 점이 있었지만 그래도 nlp는 아직 어려운 분야인 것 같다는 생각을 했다.\n",
    "\n",
    "오류 해결 사이트 : https://groups.google.com/g/ml-dl-book-qna/c/sGYNQhDwwO4\n",
    "참고 코드 주소 : https://github.com/hyyoo3526/AIFFEL_EXPLORATION/blob/main/EXPLORATION_07/EXPLORATION_IC1_07_sentiment_classification.ipynb"
   ]
  },
  {
   "cell_type": "code",
   "execution_count": null,
   "id": "a8780031",
   "metadata": {},
   "outputs": [],
   "source": []
  }
 ],
 "metadata": {
  "kernelspec": {
   "display_name": "Python 3 (ipykernel)",
   "language": "python",
   "name": "python3"
  },
  "language_info": {
   "codemirror_mode": {
    "name": "ipython",
    "version": 3
   },
   "file_extension": ".py",
   "mimetype": "text/x-python",
   "name": "python",
   "nbconvert_exporter": "python",
   "pygments_lexer": "ipython3",
   "version": "3.9.7"
  }
 },
 "nbformat": 4,
 "nbformat_minor": 5
}
